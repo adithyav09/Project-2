{
 "cells": [
  {
   "cell_type": "code",
   "execution_count": 1,
   "metadata": {},
   "outputs": [],
   "source": [
    "#Import Dependencies\n",
    "import requests\n",
    "import http.client\n",
    "import json"
   ]
  },
  {
   "cell_type": "code",
   "execution_count": 90,
   "metadata": {
    "tags": []
   },
   "outputs": [
    {
     "name": "stdout",
     "output_type": "stream",
     "text": [
      "{\"success\":true,\"result\":[{\"currency\":\"usd\",\"name\":\"Alaska\",\"gasoline\":\"2.510\",\"midGrade\":\"2.642\",\"premium\":\"2.808\",\"diesel\":\"2.393\"},{\"currency\":\"usd\",\"name\":\"Alabama\",\"gasoline\":\"1.906\",\"midGrade\":\"2.242\",\"premium\":\"2.569\",\"diesel\":\"2.245\"},{\"currency\":\"usd\",\"name\":\"Arkansas\",\"gasoline\":\"1.889\",\"midGrade\":\"2.193\",\"premium\":\"2.486\",\"diesel\":\"2.133\"},{\"currency\":\"usd\",\"name\":\"Arizona\",\"gasoline\":\"2.272\",\"midGrade\":\"2.552\",\"premium\":\"2.811\",\"diesel\":\"2.423\"},{\"currency\":\"usd\",\"name\":\"California\",\"gasoline\":\"3.207\",\"midGrade\":\"3.391\",\"premium\":\"3.509\",\"diesel\":\"3.343\"},{\"currency\":\"usd\",\"name\":\"Colorado\",\"gasoline\":\"2.261\",\"midGrade\":\"2.576\",\"premium\":\"2.860\",\"diesel\":\"2.184\"},{\"currency\":\"usd\",\"name\":\"Connecticut\",\"gasoline\":\"2.184\",\"midGrade\":\"2.537\",\"premium\":\"2.769\",\"diesel\":\"2.694\"},{\"currency\":\"usd\",\"name\":\"District of Columbia\",\"gasoline\":\"2.389\",\"midGrade\":\"2.888\",\"premium\":\"3.009\",\"diesel\":\"2.853\"},{\"currency\":\"usd\",\"name\":\"Delaware\",\"gasoline\":\"2.296\",\"midGrade\":\"2.673\",\"premium\":\"2.907\",\"diesel\":\"2.330\"},{\"currency\":\"usd\",\"name\":\"Florida\",\"gasoline\":\"2.167\",\"midGrade\":\"2.521\",\"premium\":\"2.811\",\"diesel\":\"2.327\"},{\"currency\":\"usd\",\"name\":\"Georgia\",\"gasoline\":\"1.997\",\"midGrade\":\"2.329\",\"premium\":\"2.635\",\"diesel\":\"2.431\"},{\"currency\":\"usd\",\"name\":\"Hawaii\",\"gasoline\":\"3.260\",\"midGrade\":\"3.448\",\"premium\":\"3.669\",\"diesel\":\"4.044\"},{\"currency\":\"usd\",\"name\":\"Iowa\",\"gasoline\":\"2.073\",\"midGrade\":\"2.233\",\"premium\":\"2.622\",\"diesel\":\"2.177\"},{\"currency\":\"usd\",\"name\":\"Idaho\",\"gasoline\":\"2.378\",\"midGrade\":\"2.539\",\"premium\":\"2.743\",\"diesel\":\"2.341\"},{\"currency\":\"usd\",\"name\":\"Illinois\",\"gasoline\":\"2.287\",\"midGrade\":\"2.639\",\"premium\":\"3.040\",\"diesel\":\"2.386\"},{\"currency\":\"usd\",\"name\":\"Indiana\",\"gasoline\":\"2.138\",\"midGrade\":\"2.451\",\"premium\":\"2.768\",\"diesel\":\"2.426\"},{\"currency\":\"usd\",\"name\":\"Kansas\",\"gasoline\":\"1.955\",\"midGrade\":\"2.215\",\"premium\":\"2.440\",\"diesel\":\"2.108\"},{\"currency\":\"usd\",\"name\":\"Kentucky\",\"gasoline\":\"2.005\",\"midGrade\":\"2.336\",\"premium\":\"2.644\",\"diesel\":\"2.232\"},{\"currency\":\"usd\",\"name\":\"Louisiana\",\"gasoline\":\"1.915\",\"midGrade\":\"2.236\",\"premium\":\"2.546\",\"diesel\":\"2.215\"},{\"currency\":\"usd\",\"name\":\"Massachusetts\",\"gasoline\":\"2.112\",\"midGrade\":\"2.471\",\"premium\":\"2.683\",\"diesel\":\"2.560\"},{\"currency\":\"usd\",\"name\":\"Maryland\",\"gasoline\":\"2.297\",\"midGrade\":\"2.726\",\"premium\":\"2.963\",\"diesel\":\"2.418\"},{\"currency\":\"usd\",\"name\":\"Maine\",\"gasoline\":\"2.178\",\"midGrade\":\"2.496\",\"premium\":\"2.760\",\"diesel\":\"2.490\"},{\"currency\":\"usd\",\"name\":\"Michigan\",\"gasoline\":\"2.129\",\"midGrade\":\"2.438\",\"premium\":\"2.773\",\"diesel\":\"2.377\"},{\"currency\":\"usd\",\"name\":\"Minnesota\",\"gasoline\":\"2.030\",\"midGrade\":\"2.269\",\"premium\":\"2.578\",\"diesel\":\"2.302\"},{\"currency\":\"usd\",\"name\":\"Missouri\",\"gasoline\":\"1.877\",\"midGrade\":\"2.127\",\"premium\":\"2.398\",\"diesel\":\"1.995\"},{\"currency\":\"usd\",\"name\":\"Mississippi\",\"gasoline\":\"1.857\",\"midGrade\":\"2.160\",\"premium\":\"2.488\",\"diesel\":\"2.079\"},{\"currency\":\"usd\",\"name\":\"Montana\",\"gasoline\":\"2.245\",\"midGrade\":\"2.510\",\"premium\":\"2.768\",\"diesel\":\"2.261\"},{\"currency\":\"usd\",\"name\":\"North Carolina\",\"gasoline\":\"2.048\",\"midGrade\":\"2.385\",\"premium\":\"2.710\",\"diesel\":\"2.310\"},{\"currency\":\"usd\",\"name\":\"North Dakota\",\"gasoline\":\"2.068\",\"midGrade\":\"2.288\",\"premium\":\"2.497\",\"diesel\":\"2.154\"},{\"currency\":\"usd\",\"name\":\"Nebraska\",\"gasoline\":\"2.128\",\"midGrade\":\"2.244\",\"premium\":\"2.593\",\"diesel\":\"2.190\"},{\"currency\":\"usd\",\"name\":\"New Hampshire\",\"gasoline\":\"2.076\",\"midGrade\":\"2.453\",\"premium\":\"2.715\",\"diesel\":\"2.465\"},{\"currency\":\"usd\",\"name\":\"New Jersey\",\"gasoline\":\"2.240\",\"midGrade\":\"2.611\",\"premium\":\"2.793\",\"diesel\":\"2.521\"},{\"currency\":\"usd\",\"name\":\"New Mexico\",\"gasoline\":\"2.045\",\"midGrade\":\"2.360\",\"premium\":\"2.608\",\"diesel\":\"2.304\"},{\"currency\":\"usd\",\"name\":\"Nevada\",\"gasoline\":\"2.644\",\"midGrade\":\"2.865\",\"premium\":\"3.040\",\"diesel\":\"2.588\"},{\"currency\":\"usd\",\"name\":\"New York\",\"gasoline\":\"2.258\",\"midGrade\":\"2.581\",\"premium\":\"2.819\",\"diesel\":\"2.786\"},{\"currency\":\"usd\",\"name\":\"Ohio\",\"gasoline\":\"2.082\",\"midGrade\":\"2.414\",\"premium\":\"2.748\",\"diesel\":\"2.367\"},{\"currency\":\"usd\",\"name\":\"Oklahoma\",\"gasoline\":\"1.892\",\"midGrade\":\"2.146\",\"premium\":\"2.340\",\"diesel\":\"2.000\"},{\"currency\":\"usd\",\"name\":\"Oregon\",\"gasoline\":\"2.610\",\"midGrade\":\"2.792\",\"premium\":\"2.970\",\"diesel\":\"2.582\"},{\"currency\":\"usd\",\"name\":\"Pennsylvania\",\"gasoline\":\"2.496\",\"midGrade\":\"2.804\",\"premium\":\"3.079\",\"diesel\":\"2.751\"},{\"currency\":\"usd\",\"name\":\"Rhode Island\",\"gasoline\":\"2.132\",\"midGrade\":\"2.527\",\"premium\":\"2.741\",\"diesel\":\"2.631\"},{\"currency\":\"usd\",\"name\":\"South Carolina\",\"gasoline\":\"1.944\",\"midGrade\":\"2.275\",\"premium\":\"2.587\",\"diesel\":\"2.163\"},{\"currency\":\"usd\",\"name\":\"South Dakota\",\"gasoline\":\"2.108\",\"midGrade\":\"2.221\",\"premium\":\"2.562\",\"diesel\":\"2.214\"},{\"currency\":\"usd\",\"name\":\"Tennessee\",\"gasoline\":\"1.936\",\"midGrade\":\"2.273\",\"premium\":\"2.596\",\"diesel\":\"2.278\"},{\"currency\":\"usd\",\"name\":\"Texas\",\"gasoline\":\"1.862\",\"midGrade\":\"2.194\",\"premium\":\"2.481\",\"diesel\":\"2.025\"},{\"currency\":\"usd\",\"name\":\"Utah\",\"gasoline\":\"2.395\",\"midGrade\":\"2.562\",\"premium\":\"2.736\",\"diesel\":\"2.358\"},{\"currency\":\"usd\",\"name\":\"Virginia\",\"gasoline\":\"2.091\",\"midGrade\":\"2.468\",\"premium\":\"2.766\",\"diesel\":\"2.330\"},{\"currency\":\"usd\",\"name\":\"Vermont\",\"gasoline\":\"2.159\",\"midGrade\":\"2.492\",\"premium\":\"2.773\",\"diesel\":\"2.502\"},{\"currency\":\"usd\",\"name\":\"Washington\",\"gasoline\":\"2.784\",\"midGrade\":\"3.010\",\"premium\":\"3.168\",\"diesel\":\"2.709\"},{\"currency\":\"usd\",\"name\":\"Wisconsin\",\"gasoline\":\"2.007\",\"midGrade\":\"2.348\",\"premium\":\"2.725\",\"diesel\":\"2.117\"},{\"currency\":\"usd\",\"name\":\"West Virginia\",\"gasoline\":\"2.232\",\"midGrade\":\"2.519\",\"premium\":\"2.805\",\"diesel\":\"2.381\"},{\"currency\":\"usd\",\"name\":\"Wyoming\",\"gasoline\":\"2.216\",\"midGrade\":\"2.436\",\"premium\":\"2.676\",\"diesel\":\"2.351\"}]}\n"
     ]
    }
   ],
   "source": [
    "#Fetch the data using API and client format\n",
    "import http.client\n",
    "\n",
    "conn = http.client.HTTPSConnection(\"api.collectapi.com\")\n",
    "\n",
    "headers = {\n",
    "    'content-type': \"application/json\",\n",
    "    'authorization': \"apikey 095qy5emUONDSAcb8TZFvG:0lLiUg1Hj1hxHS9mCEob3m\"\n",
    "    }\n",
    "\n",
    "conn.request(\"GET\", \"/gasPrice/allUsaPrice\", headers=headers)\n",
    "\n",
    "res = conn.getresponse()\n",
    "raw_data = res.read()\n",
    "\n",
    "#Printing the results after decoding from bytes to review data\n",
    "print(raw_data.decode(\"utf-8\"))"
   ]
  },
  {
   "cell_type": "code",
   "execution_count": 125,
   "metadata": {
    "tags": []
   },
   "outputs": [
    {
     "name": "stdout",
     "output_type": "stream",
     "text": [
      "{'currency': 'usd', 'name': 'Alaska', 'gasoline': '2.510', 'midGrade': '2.642', 'premium': '2.808', 'diesel': '2.393'}\n"
     ]
    }
   ],
   "source": [
    "#Converting the byte array by decoding and then loading through JSON\n",
    "gasPriceState_data = raw_data.decode('utf8')\n",
    "gasPriceState_data = json.loads(gasPriceState_data)\n",
    "gasPriceState_data = gasPriceState_data['result']\n",
    "print(gasPriceState_data)"
   ]
  },
  {
   "cell_type": "code",
   "execution_count": null,
   "metadata": {},
   "outputs": [],
   "source": []
  }
 ],
 "metadata": {
  "kernelspec": {
   "display_name": "Python 3",
   "language": "python",
   "name": "python3"
  },
  "language_info": {
   "codemirror_mode": {
    "name": "ipython",
    "version": 3
   },
   "file_extension": ".py",
   "mimetype": "text/x-python",
   "name": "python",
   "nbconvert_exporter": "python",
   "pygments_lexer": "ipython3",
   "version": "3.7.7"
  }
 },
 "nbformat": 4,
 "nbformat_minor": 4
}
