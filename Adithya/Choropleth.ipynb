{
 "cells": [
  {
   "cell_type": "code",
<<<<<<< HEAD
   "execution_count": 1,
=======
   "execution_count": 9,
>>>>>>> main
   "metadata": {},
   "outputs": [],
   "source": [
    "#Import Dependencies\n",
    "import requests\n",
    "import http.client\n",
    "import json\n",
    "import geojson\n",
    "import time"
   ]
  },
  {
   "cell_type": "code",
<<<<<<< HEAD
   "execution_count": 5,
=======
   "execution_count": 10,
>>>>>>> main
   "metadata": {
    "tags": []
   },
   "outputs": [
    {
     "output_type": "stream",
     "name": "stdout",
     "text": [
      "{\"success\":true,\"result\":[{\"currency\":\"usd\",\"name\":\"Alaska\",\"gasoline\":\"2.499\",\"midGrade\":\"2.647\",\"premium\":\"2.808\",\"diesel\":\"2.393\"},{\"currency\":\"usd\",\"name\":\"Alabama\",\"gasoline\":\"1.909\",\"midGrade\":\"2.241\",\"premium\":\"2.574\",\"diesel\":\"2.238\"},{\"currency\":\"usd\",\"name\":\"Arkansas\",\"gasoline\":\"1.882\",\"midGrade\":\"2.185\",\"premium\":\"2.481\",\"diesel\":\"2.134\"},{\"currency\":\"usd\",\"name\":\"Arizona\",\"gasoline\":\"2.267\",\"midGrade\":\"2.551\",\"premium\":\"2.805\",\"diesel\":\"2.418\"},{\"currency\":\"usd\",\"name\":\"California\",\"gasoline\":\"3.201\",\"midGrade\":\"3.384\",\"premium\":\"3.504\",\"diesel\":\"3.339\"},{\"currency\":\"usd\",\"name\":\"Colorado\",\"gasoline\":\"2.252\",\"midGrade\":\"2.564\",\"premium\":\"2.854\",\"diesel\":\"2.183\"},{\"currency\":\"usd\",\"name\":\"Connecticut\",\"gasoline\":\"2.181\",\"midGrade\":\"2.539\",\"premium\":\"2.761\",\"diesel\":\"2.680\"},{\"currency\":\"usd\",\"name\":\"District of Columbia\",\"gasoline\":\"2.377\",\"midGrade\":\"2.886\",\"premium\":\"3.044\",\"diesel\":\"2.850\"},{\"currency\":\"usd\",\"name\":\"Delaware\",\"gasoline\":\"2.330\",\"midGrade\":\"2.712\",\"premium\":\"2.938\",\"diesel\":\"2.320\"},{\"currency\":\"usd\",\"name\":\"Florida\",\"gasoline\":\"2.142\",\"midGrade\":\"2.495\",\"premium\":\"2.788\",\"diesel\":\"2.318\"},{\"currency\":\"usd\",\"name\":\"Georgia\",\"gasoline\":\"1.999\",\"midGrade\":\"2.335\",\"premium\":\"2.646\",\"diesel\":\"2.426\"},{\"currency\":\"usd\",\"name\":\"Hawaii\",\"gasoline\":\"3.260\",\"midGrade\":\"3.442\",\"premium\":\"3.673\",\"diesel\":\"4.035\"},{\"currency\":\"usd\",\"name\":\"Iowa\",\"gasoline\":\"2.062\",\"midGrade\":\"2.236\",\"premium\":\"2.613\",\"diesel\":\"2.176\"},{\"currency\":\"usd\",\"name\":\"Idaho\",\"gasoline\":\"2.367\",\"midGrade\":\"2.539\",\"premium\":\"2.726\",\"diesel\":\"2.344\"},{\"currency\":\"usd\",\"name\":\"Illinois\",\"gasoline\":\"2.269\",\"midGrade\":\"2.613\",\"premium\":\"3.012\",\"diesel\":\"2.385\"},{\"currency\":\"usd\",\"name\":\"Indiana\",\"gasoline\":\"2.083\",\"midGrade\":\"2.411\",\"premium\":\"2.733\",\"diesel\":\"2.426\"},{\"currency\":\"usd\",\"name\":\"Kansas\",\"gasoline\":\"1.949\",\"midGrade\":\"2.212\",\"premium\":\"2.440\",\"diesel\":\"2.111\"},{\"currency\":\"usd\",\"name\":\"Kentucky\",\"gasoline\":\"1.978\",\"midGrade\":\"2.305\",\"premium\":\"2.617\",\"diesel\":\"2.224\"},{\"currency\":\"usd\",\"name\":\"Louisiana\",\"gasoline\":\"1.910\",\"midGrade\":\"2.230\",\"premium\":\"2.532\",\"diesel\":\"2.210\"},{\"currency\":\"usd\",\"name\":\"Massachusetts\",\"gasoline\":\"2.111\",\"midGrade\":\"2.471\",\"premium\":\"2.683\",\"diesel\":\"2.552\"},{\"currency\":\"usd\",\"name\":\"Maryland\",\"gasoline\":\"2.318\",\"midGrade\":\"2.753\",\"premium\":\"2.990\",\"diesel\":\"2.412\"},{\"currency\":\"usd\",\"name\":\"Maine\",\"gasoline\":\"2.175\",\"midGrade\":\"2.502\",\"premium\":\"2.771\",\"diesel\":\"2.491\"},{\"currency\":\"usd\",\"name\":\"Michigan\",\"gasoline\":\"2.085\",\"midGrade\":\"2.410\",\"premium\":\"2.743\",\"diesel\":\"2.376\"},{\"currency\":\"usd\",\"name\":\"Minnesota\",\"gasoline\":\"2.014\",\"midGrade\":\"2.253\",\"premium\":\"2.557\",\"diesel\":\"2.297\"},{\"currency\":\"usd\",\"name\":\"Missouri\",\"gasoline\":\"1.863\",\"midGrade\":\"2.117\",\"premium\":\"2.384\",\"diesel\":\"1.994\"},{\"currency\":\"usd\",\"name\":\"Mississippi\",\"gasoline\":\"1.855\",\"midGrade\":\"2.160\",\"premium\":\"2.479\",\"diesel\":\"2.080\"},{\"currency\":\"usd\",\"name\":\"Montana\",\"gasoline\":\"2.247\",\"midGrade\":\"2.506\",\"premium\":\"2.751\",\"diesel\":\"2.261\"},{\"currency\":\"usd\",\"name\":\"North Carolina\",\"gasoline\":\"2.025\",\"midGrade\":\"2.367\",\"premium\":\"2.698\",\"diesel\":\"2.304\"},{\"currency\":\"usd\",\"name\":\"North Dakota\",\"gasoline\":\"2.072\",\"midGrade\":\"2.277\",\"premium\":\"2.489\",\"diesel\":\"2.168\"},{\"currency\":\"usd\",\"name\":\"Nebraska\",\"gasoline\":\"2.131\",\"midGrade\":\"2.258\",\"premium\":\"2.598\",\"diesel\":\"2.191\"},{\"currency\":\"usd\",\"name\":\"New Hampshire\",\"gasoline\":\"2.075\",\"midGrade\":\"2.454\",\"premium\":\"2.721\",\"diesel\":\"2.470\"},{\"currency\":\"usd\",\"name\":\"New Jersey\",\"gasoline\":\"2.248\",\"midGrade\":\"2.615\",\"premium\":\"2.800\",\"diesel\":\"2.517\"},{\"currency\":\"usd\",\"name\":\"New Mexico\",\"gasoline\":\"2.034\",\"midGrade\":\"2.357\",\"premium\":\"2.605\",\"diesel\":\"2.298\"},{\"currency\":\"usd\",\"name\":\"Nevada\",\"gasoline\":\"2.633\",\"midGrade\":\"2.849\",\"premium\":\"3.032\",\"diesel\":\"2.584\"},{\"currency\":\"usd\",\"name\":\"New York\",\"gasoline\":\"2.254\",\"midGrade\":\"2.582\",\"premium\":\"2.813\",\"diesel\":\"2.785\"},{\"currency\":\"usd\",\"name\":\"Ohio\",\"gasoline\":\"2.038\",\"midGrade\":\"2.371\",\"premium\":\"2.706\",\"diesel\":\"2.373\"},{\"currency\":\"usd\",\"name\":\"Oklahoma\",\"gasoline\":\"1.885\",\"midGrade\":\"2.140\",\"premium\":\"2.341\",\"diesel\":\"1.992\"},{\"currency\":\"usd\",\"name\":\"Oregon\",\"gasoline\":\"2.598\",\"midGrade\":\"2.784\",\"premium\":\"2.967\",\"diesel\":\"2.578\"},{\"currency\":\"usd\",\"name\":\"Pennsylvania\",\"gasoline\":\"2.489\",\"midGrade\":\"2.803\",\"premium\":\"3.079\",\"diesel\":\"2.748\"},{\"currency\":\"usd\",\"name\":\"Rhode Island\",\"gasoline\":\"2.131\",\"midGrade\":\"2.545\",\"premium\":\"2.755\",\"diesel\":\"2.625\"},{\"currency\":\"usd\",\"name\":\"South Carolina\",\"gasoline\":\"1.929\",\"midGrade\":\"2.265\",\"premium\":\"2.586\",\"diesel\":\"2.160\"},{\"currency\":\"usd\",\"name\":\"South Dakota\",\"gasoline\":\"2.120\",\"midGrade\":\"2.229\",\"premium\":\"2.545\",\"diesel\":\"2.213\"},{\"currency\":\"usd\",\"name\":\"Tennessee\",\"gasoline\":\"1.942\",\"midGrade\":\"2.274\",\"premium\":\"2.604\",\"diesel\":\"2.281\"},{\"currency\":\"usd\",\"name\":\"Texas\",\"gasoline\":\"1.866\",\"midGrade\":\"2.195\",\"premium\":\"2.480\",\"diesel\":\"2.021\"},{\"currency\":\"usd\",\"name\":\"Utah\",\"gasoline\":\"2.404\",\"midGrade\":\"2.569\",\"premium\":\"2.737\",\"diesel\":\"2.359\"},{\"currency\":\"usd\",\"name\":\"Virginia\",\"gasoline\":\"2.086\",\"midGrade\":\"2.466\",\"premium\":\"2.758\",\"diesel\":\"2.332\"},{\"currency\":\"usd\",\"name\":\"Vermont\",\"gasoline\":\"2.152\",\"midGrade\":\"2.504\",\"premium\":\"2.776\",\"diesel\":\"2.494\"},{\"currency\":\"usd\",\"name\":\"Washington\",\"gasoline\":\"2.783\",\"midGrade\":\"3.005\",\"premium\":\"3.158\",\"diesel\":\"2.708\"},{\"currency\":\"usd\",\"name\":\"Wisconsin\",\"gasoline\":\"1.987\",\"midGrade\":\"2.326\",\"premium\":\"2.706\",\"diesel\":\"2.115\"},{\"currency\":\"usd\",\"name\":\"West Virginia\",\"gasoline\":\"2.206\",\"midGrade\":\"2.493\",\"premium\":\"2.784\",\"diesel\":\"2.367\"},{\"currency\":\"usd\",\"name\":\"Wyoming\",\"gasoline\":\"2.217\",\"midGrade\":\"2.427\",\"premium\":\"2.665\",\"diesel\":\"2.349\"}]}\n"
     ]
    }
   ],
   "source": [
    "import http.client\n",
    "\n",
    "conn = http.client.HTTPSConnection(\"api.collectapi.com\")\n",
    "\n",
    "headers = {\n",
    "    'content-type': \"application/json\",\n",
    "    'authorization': \"apikey 095qy5emUONDSAcb8TZFvG:0lLiUg1Hj1hxHS9mCEob3m\"\n",
    "    }\n",
    "\n",
    "conn.request(\"GET\", \"/gasPrice/allUsaPrice\", headers=headers)\n",
    "\n",
    "res = conn.getresponse()\n",
    "raw_data = res.read()\n",
    "\n",
    "print(raw_data.decode(\"utf-8\"))"
   ]
  },
  {
   "cell_type": "code",
<<<<<<< HEAD
   "execution_count": 6,
=======
   "execution_count": 11,
>>>>>>> main
   "metadata": {
    "tags": []
   },
   "outputs": [
    {
     "output_type": "stream",
     "name": "stdout",
     "text": [
      "[{'currency': 'usd', 'name': 'Alaska', 'gasoline': '2.499', 'midGrade': '2.647', 'premium': '2.808', 'diesel': '2.393'}, {'currency': 'usd', 'name': 'Alabama', 'gasoline': '1.909', 'midGrade': '2.241', 'premium': '2.574', 'diesel': '2.238'}, {'currency': 'usd', 'name': 'Arkansas', 'gasoline': '1.882', 'midGrade': '2.185', 'premium': '2.481', 'diesel': '2.134'}, {'currency': 'usd', 'name': 'Arizona', 'gasoline': '2.267', 'midGrade': '2.551', 'premium': '2.805', 'diesel': '2.418'}, {'currency': 'usd', 'name': 'California', 'gasoline': '3.201', 'midGrade': '3.384', 'premium': '3.504', 'diesel': '3.339'}, {'currency': 'usd', 'name': 'Colorado', 'gasoline': '2.252', 'midGrade': '2.564', 'premium': '2.854', 'diesel': '2.183'}, {'currency': 'usd', 'name': 'Connecticut', 'gasoline': '2.181', 'midGrade': '2.539', 'premium': '2.761', 'diesel': '2.680'}, {'currency': 'usd', 'name': 'District of Columbia', 'gasoline': '2.377', 'midGrade': '2.886', 'premium': '3.044', 'diesel': '2.850'}, {'currency': 'usd', 'name': 'Delaware', 'gasoline': '2.330', 'midGrade': '2.712', 'premium': '2.938', 'diesel': '2.320'}, {'currency': 'usd', 'name': 'Florida', 'gasoline': '2.142', 'midGrade': '2.495', 'premium': '2.788', 'diesel': '2.318'}, {'currency': 'usd', 'name': 'Georgia', 'gasoline': '1.999', 'midGrade': '2.335', 'premium': '2.646', 'diesel': '2.426'}, {'currency': 'usd', 'name': 'Hawaii', 'gasoline': '3.260', 'midGrade': '3.442', 'premium': '3.673', 'diesel': '4.035'}, {'currency': 'usd', 'name': 'Iowa', 'gasoline': '2.062', 'midGrade': '2.236', 'premium': '2.613', 'diesel': '2.176'}, {'currency': 'usd', 'name': 'Idaho', 'gasoline': '2.367', 'midGrade': '2.539', 'premium': '2.726', 'diesel': '2.344'}, {'currency': 'usd', 'name': 'Illinois', 'gasoline': '2.269', 'midGrade': '2.613', 'premium': '3.012', 'diesel': '2.385'}, {'currency': 'usd', 'name': 'Indiana', 'gasoline': '2.083', 'midGrade': '2.411', 'premium': '2.733', 'diesel': '2.426'}, {'currency': 'usd', 'name': 'Kansas', 'gasoline': '1.949', 'midGrade': '2.212', 'premium': '2.440', 'diesel': '2.111'}, {'currency': 'usd', 'name': 'Kentucky', 'gasoline': '1.978', 'midGrade': '2.305', 'premium': '2.617', 'diesel': '2.224'}, {'currency': 'usd', 'name': 'Louisiana', 'gasoline': '1.910', 'midGrade': '2.230', 'premium': '2.532', 'diesel': '2.210'}, {'currency': 'usd', 'name': 'Massachusetts', 'gasoline': '2.111', 'midGrade': '2.471', 'premium': '2.683', 'diesel': '2.552'}, {'currency': 'usd', 'name': 'Maryland', 'gasoline': '2.318', 'midGrade': '2.753', 'premium': '2.990', 'diesel': '2.412'}, {'currency': 'usd', 'name': 'Maine', 'gasoline': '2.175', 'midGrade': '2.502', 'premium': '2.771', 'diesel': '2.491'}, {'currency': 'usd', 'name': 'Michigan', 'gasoline': '2.085', 'midGrade': '2.410', 'premium': '2.743', 'diesel': '2.376'}, {'currency': 'usd', 'name': 'Minnesota', 'gasoline': '2.014', 'midGrade': '2.253', 'premium': '2.557', 'diesel': '2.297'}, {'currency': 'usd', 'name': 'Missouri', 'gasoline': '1.863', 'midGrade': '2.117', 'premium': '2.384', 'diesel': '1.994'}, {'currency': 'usd', 'name': 'Mississippi', 'gasoline': '1.855', 'midGrade': '2.160', 'premium': '2.479', 'diesel': '2.080'}, {'currency': 'usd', 'name': 'Montana', 'gasoline': '2.247', 'midGrade': '2.506', 'premium': '2.751', 'diesel': '2.261'}, {'currency': 'usd', 'name': 'North Carolina', 'gasoline': '2.025', 'midGrade': '2.367', 'premium': '2.698', 'diesel': '2.304'}, {'currency': 'usd', 'name': 'North Dakota', 'gasoline': '2.072', 'midGrade': '2.277', 'premium': '2.489', 'diesel': '2.168'}, {'currency': 'usd', 'name': 'Nebraska', 'gasoline': '2.131', 'midGrade': '2.258', 'premium': '2.598', 'diesel': '2.191'}, {'currency': 'usd', 'name': 'New Hampshire', 'gasoline': '2.075', 'midGrade': '2.454', 'premium': '2.721', 'diesel': '2.470'}, {'currency': 'usd', 'name': 'New Jersey', 'gasoline': '2.248', 'midGrade': '2.615', 'premium': '2.800', 'diesel': '2.517'}, {'currency': 'usd', 'name': 'New Mexico', 'gasoline': '2.034', 'midGrade': '2.357', 'premium': '2.605', 'diesel': '2.298'}, {'currency': 'usd', 'name': 'Nevada', 'gasoline': '2.633', 'midGrade': '2.849', 'premium': '3.032', 'diesel': '2.584'}, {'currency': 'usd', 'name': 'New York', 'gasoline': '2.254', 'midGrade': '2.582', 'premium': '2.813', 'diesel': '2.785'}, {'currency': 'usd', 'name': 'Ohio', 'gasoline': '2.038', 'midGrade': '2.371', 'premium': '2.706', 'diesel': '2.373'}, {'currency': 'usd', 'name': 'Oklahoma', 'gasoline': '1.885', 'midGrade': '2.140', 'premium': '2.341', 'diesel': '1.992'}, {'currency': 'usd', 'name': 'Oregon', 'gasoline': '2.598', 'midGrade': '2.784', 'premium': '2.967', 'diesel': '2.578'}, {'currency': 'usd', 'name': 'Pennsylvania', 'gasoline': '2.489', 'midGrade': '2.803', 'premium': '3.079', 'diesel': '2.748'}, {'currency': 'usd', 'name': 'Rhode Island', 'gasoline': '2.131', 'midGrade': '2.545', 'premium': '2.755', 'diesel': '2.625'}, {'currency': 'usd', 'name': 'South Carolina', 'gasoline': '1.929', 'midGrade': '2.265', 'premium': '2.586', 'diesel': '2.160'}, {'currency': 'usd', 'name': 'South Dakota', 'gasoline': '2.120', 'midGrade': '2.229', 'premium': '2.545', 'diesel': '2.213'}, {'currency': 'usd', 'name': 'Tennessee', 'gasoline': '1.942', 'midGrade': '2.274', 'premium': '2.604', 'diesel': '2.281'}, {'currency': 'usd', 'name': 'Texas', 'gasoline': '1.866', 'midGrade': '2.195', 'premium': '2.480', 'diesel': '2.021'}, {'currency': 'usd', 'name': 'Utah', 'gasoline': '2.404', 'midGrade': '2.569', 'premium': '2.737', 'diesel': '2.359'}, {'currency': 'usd', 'name': 'Virginia', 'gasoline': '2.086', 'midGrade': '2.466', 'premium': '2.758', 'diesel': '2.332'}, {'currency': 'usd', 'name': 'Vermont', 'gasoline': '2.152', 'midGrade': '2.504', 'premium': '2.776', 'diesel': '2.494'}, {'currency': 'usd', 'name': 'Washington', 'gasoline': '2.783', 'midGrade': '3.005', 'premium': '3.158', 'diesel': '2.708'}, {'currency': 'usd', 'name': 'Wisconsin', 'gasoline': '1.987', 'midGrade': '2.326', 'premium': '2.706', 'diesel': '2.115'}, {'currency': 'usd', 'name': 'West Virginia', 'gasoline': '2.206', 'midGrade': '2.493', 'premium': '2.784', 'diesel': '2.367'}, {'currency': 'usd', 'name': 'Wyoming', 'gasoline': '2.217', 'midGrade': '2.427', 'premium': '2.665', 'diesel': '2.349'}]\n"
     ]
    }
   ],
   "source": [
    "#Converting the byte array by decoding and then loading through JSON\n",
    "gasPriceState_data = raw_data.decode('utf8')\n",
    "gasPriceState_data = json.loads(gasPriceState_data)\n",
    "gasPriceState_data = gasPriceState_data['result']\n",
    "print(gasPriceState_data)"
   ]
  },
  {
   "cell_type": "code",
<<<<<<< HEAD
   "execution_count": 7,
=======
   "execution_count": 12,
>>>>>>> main
   "metadata": {},
   "outputs": [],
   "source": [
    "#Recieved fips ID for each state in order to change apply it into the gasPrice JSON dictionary by matching by state key\n",
    "States_fipsId = {\n",
    "'Alabama': '01',\n",
    "'Alaska': '02',\n",
    "'Arizona': '04',\n",
    "'Arkansas': '05',\n",
    "'California': '06',\n",
    "'Colorado': '08',\n",
    "'Connecticut': '09',\n",
    "'Delaware': '10',\n",
    "'District Of Columbia': '11',\n",
    "'Florida': '12',\n",
    "'Georgia': '13',\n",
    "'Hawaii': '15',\n",
    "'Idaho': '16',\n",
    "'Illinois': '17',\n",
    "'Indiana': '18',\n",
    "'Iowa': '19',\n",
    "'Kansas': '20',\n",
    "'Kentucky': '21',\n",
    "'Louisiana': '22',\n",
    "'Maine': '23',\n",
    "'Maryland': '24',\n",
    "'Massachusetts': '25',\n",
    "'Michigan': '26',\n",
    "'Minnesota': '27',\n",
    "'Mississippi': '28',\n",
    "'Missouri': '29',\n",
    "'Montana': '30',\n",
    "'Nebraska': '31',\n",
    "'Nevada': '32',\n",
    "'New Hampshire': '33',\n",
    "'New Jersey': '34',\n",
    "'New Mexico': '35',\n",
    "'New York': '36',\n",
    "'North Carolina': '37',\n",
    "'North Dakota': '38',\n",
    "'Ohio': '39',\n",
    "'Oklahoma': '40',\n",
    "'Oregon': '41',\n",
    "'Pennsylvania': '42',\n",
    "'Rhode Island': '44',\n",
    "'South Carolina': '45',\n",
    "'South Dakota': '46',\n",
    "'Tennessee': '47',\n",
    "'Texas': '48',\n",
    "'Utah': '49',\n",
    "'Vermont': '50',\n",
    "'Virginia': '51',\n",
    "'Washington': '53',\n",
    "'West Virginia': '54',\n",
    "'Wisconsin': '55',\n",
    "'Wyoming': '56'\n",
    "}"
   ]
  },
  {
   "cell_type": "code",
<<<<<<< HEAD
   "execution_count": 8,
=======
   "execution_count": 13,
>>>>>>> main
   "metadata": {
    "tags": []
   },
   "outputs": [
    {
     "output_type": "stream",
     "name": "stdout",
     "text": [
      "{'currency': 'usd', 'name': 'Alabama', 'gasoline': '1.909', 'midGrade': '2.241', 'premium': '2.574', 'diesel': '2.238', 'id': '01'}\n{'currency': 'usd', 'name': 'Alaska', 'gasoline': '2.499', 'midGrade': '2.647', 'premium': '2.808', 'diesel': '2.393', 'id': '02'}\n{'currency': 'usd', 'name': 'Arizona', 'gasoline': '2.267', 'midGrade': '2.551', 'premium': '2.805', 'diesel': '2.418', 'id': '04'}\n{'currency': 'usd', 'name': 'Arkansas', 'gasoline': '1.882', 'midGrade': '2.185', 'premium': '2.481', 'diesel': '2.134', 'id': '05'}\n{'currency': 'usd', 'name': 'California', 'gasoline': '3.201', 'midGrade': '3.384', 'premium': '3.504', 'diesel': '3.339', 'id': '06'}\n{'currency': 'usd', 'name': 'Colorado', 'gasoline': '2.252', 'midGrade': '2.564', 'premium': '2.854', 'diesel': '2.183', 'id': '08'}\n{'currency': 'usd', 'name': 'Connecticut', 'gasoline': '2.181', 'midGrade': '2.539', 'premium': '2.761', 'diesel': '2.680', 'id': '09'}\n{'currency': 'usd', 'name': 'Delaware', 'gasoline': '2.330', 'midGrade': '2.712', 'premium': '2.938', 'diesel': '2.320', 'id': '10'}\n{'currency': 'usd', 'name': 'District of Columbia', 'gasoline': '2.377', 'midGrade': '2.886', 'premium': '3.044', 'diesel': '2.850', 'id': '11'}\n{'currency': 'usd', 'name': 'Florida', 'gasoline': '2.142', 'midGrade': '2.495', 'premium': '2.788', 'diesel': '2.318', 'id': '12'}\n{'currency': 'usd', 'name': 'Georgia', 'gasoline': '1.999', 'midGrade': '2.335', 'premium': '2.646', 'diesel': '2.426', 'id': '13'}\n{'currency': 'usd', 'name': 'Hawaii', 'gasoline': '3.260', 'midGrade': '3.442', 'premium': '3.673', 'diesel': '4.035', 'id': '15'}\n{'currency': 'usd', 'name': 'Idaho', 'gasoline': '2.367', 'midGrade': '2.539', 'premium': '2.726', 'diesel': '2.344', 'id': '16'}\n{'currency': 'usd', 'name': 'Illinois', 'gasoline': '2.269', 'midGrade': '2.613', 'premium': '3.012', 'diesel': '2.385', 'id': '17'}\n{'currency': 'usd', 'name': 'Indiana', 'gasoline': '2.083', 'midGrade': '2.411', 'premium': '2.733', 'diesel': '2.426', 'id': '18'}\n{'currency': 'usd', 'name': 'Iowa', 'gasoline': '2.062', 'midGrade': '2.236', 'premium': '2.613', 'diesel': '2.176', 'id': '19'}\n{'currency': 'usd', 'name': 'Kansas', 'gasoline': '1.949', 'midGrade': '2.212', 'premium': '2.440', 'diesel': '2.111', 'id': '20'}\n{'currency': 'usd', 'name': 'Kentucky', 'gasoline': '1.978', 'midGrade': '2.305', 'premium': '2.617', 'diesel': '2.224', 'id': '21'}\n{'currency': 'usd', 'name': 'Louisiana', 'gasoline': '1.910', 'midGrade': '2.230', 'premium': '2.532', 'diesel': '2.210', 'id': '22'}\n{'currency': 'usd', 'name': 'Maine', 'gasoline': '2.175', 'midGrade': '2.502', 'premium': '2.771', 'diesel': '2.491', 'id': '23'}\n{'currency': 'usd', 'name': 'Maryland', 'gasoline': '2.318', 'midGrade': '2.753', 'premium': '2.990', 'diesel': '2.412', 'id': '24'}\n{'currency': 'usd', 'name': 'Massachusetts', 'gasoline': '2.111', 'midGrade': '2.471', 'premium': '2.683', 'diesel': '2.552', 'id': '25'}\n{'currency': 'usd', 'name': 'Michigan', 'gasoline': '2.085', 'midGrade': '2.410', 'premium': '2.743', 'diesel': '2.376', 'id': '26'}\n{'currency': 'usd', 'name': 'Minnesota', 'gasoline': '2.014', 'midGrade': '2.253', 'premium': '2.557', 'diesel': '2.297', 'id': '27'}\n{'currency': 'usd', 'name': 'Mississippi', 'gasoline': '1.855', 'midGrade': '2.160', 'premium': '2.479', 'diesel': '2.080', 'id': '28'}\n{'currency': 'usd', 'name': 'Missouri', 'gasoline': '1.863', 'midGrade': '2.117', 'premium': '2.384', 'diesel': '1.994', 'id': '29'}\n{'currency': 'usd', 'name': 'Montana', 'gasoline': '2.247', 'midGrade': '2.506', 'premium': '2.751', 'diesel': '2.261', 'id': '30'}\n{'currency': 'usd', 'name': 'Nebraska', 'gasoline': '2.131', 'midGrade': '2.258', 'premium': '2.598', 'diesel': '2.191', 'id': '31'}\n{'currency': 'usd', 'name': 'Nevada', 'gasoline': '2.633', 'midGrade': '2.849', 'premium': '3.032', 'diesel': '2.584', 'id': '32'}\n{'currency': 'usd', 'name': 'New Hampshire', 'gasoline': '2.075', 'midGrade': '2.454', 'premium': '2.721', 'diesel': '2.470', 'id': '33'}\n{'currency': 'usd', 'name': 'New Jersey', 'gasoline': '2.248', 'midGrade': '2.615', 'premium': '2.800', 'diesel': '2.517', 'id': '34'}\n{'currency': 'usd', 'name': 'New Mexico', 'gasoline': '2.034', 'midGrade': '2.357', 'premium': '2.605', 'diesel': '2.298', 'id': '35'}\n{'currency': 'usd', 'name': 'New York', 'gasoline': '2.254', 'midGrade': '2.582', 'premium': '2.813', 'diesel': '2.785', 'id': '36'}\n{'currency': 'usd', 'name': 'North Carolina', 'gasoline': '2.025', 'midGrade': '2.367', 'premium': '2.698', 'diesel': '2.304', 'id': '37'}\n{'currency': 'usd', 'name': 'North Dakota', 'gasoline': '2.072', 'midGrade': '2.277', 'premium': '2.489', 'diesel': '2.168', 'id': '38'}\n{'currency': 'usd', 'name': 'Ohio', 'gasoline': '2.038', 'midGrade': '2.371', 'premium': '2.706', 'diesel': '2.373', 'id': '39'}\n{'currency': 'usd', 'name': 'Oklahoma', 'gasoline': '1.885', 'midGrade': '2.140', 'premium': '2.341', 'diesel': '1.992', 'id': '40'}\n{'currency': 'usd', 'name': 'Oregon', 'gasoline': '2.598', 'midGrade': '2.784', 'premium': '2.967', 'diesel': '2.578', 'id': '41'}\n{'currency': 'usd', 'name': 'Pennsylvania', 'gasoline': '2.489', 'midGrade': '2.803', 'premium': '3.079', 'diesel': '2.748', 'id': '42'}\n{'currency': 'usd', 'name': 'Rhode Island', 'gasoline': '2.131', 'midGrade': '2.545', 'premium': '2.755', 'diesel': '2.625', 'id': '44'}\n{'currency': 'usd', 'name': 'South Carolina', 'gasoline': '1.929', 'midGrade': '2.265', 'premium': '2.586', 'diesel': '2.160', 'id': '45'}\n{'currency': 'usd', 'name': 'South Dakota', 'gasoline': '2.120', 'midGrade': '2.229', 'premium': '2.545', 'diesel': '2.213', 'id': '46'}\n{'currency': 'usd', 'name': 'Tennessee', 'gasoline': '1.942', 'midGrade': '2.274', 'premium': '2.604', 'diesel': '2.281', 'id': '47'}\n{'currency': 'usd', 'name': 'Texas', 'gasoline': '1.866', 'midGrade': '2.195', 'premium': '2.480', 'diesel': '2.021', 'id': '48'}\n{'currency': 'usd', 'name': 'Utah', 'gasoline': '2.404', 'midGrade': '2.569', 'premium': '2.737', 'diesel': '2.359', 'id': '49'}\n{'currency': 'usd', 'name': 'Vermont', 'gasoline': '2.152', 'midGrade': '2.504', 'premium': '2.776', 'diesel': '2.494', 'id': '50'}\n{'currency': 'usd', 'name': 'Virginia', 'gasoline': '2.086', 'midGrade': '2.466', 'premium': '2.758', 'diesel': '2.332', 'id': '51'}\n{'currency': 'usd', 'name': 'Washington', 'gasoline': '2.783', 'midGrade': '3.005', 'premium': '3.158', 'diesel': '2.708', 'id': '53'}\n{'currency': 'usd', 'name': 'West Virginia', 'gasoline': '2.206', 'midGrade': '2.493', 'premium': '2.784', 'diesel': '2.367', 'id': '54'}\n{'currency': 'usd', 'name': 'Wisconsin', 'gasoline': '1.987', 'midGrade': '2.326', 'premium': '2.706', 'diesel': '2.115', 'id': '55'}\n{'currency': 'usd', 'name': 'Wyoming', 'gasoline': '2.217', 'midGrade': '2.427', 'premium': '2.665', 'diesel': '2.349', 'id': '56'}\n"
     ]
    }
   ],
   "source": [
    "# #Testing to see if the id state works\n",
    "gasPriceState_data = sorted(gasPriceState_data, key = lambda i: i['name'])\n",
    "    \n",
    "for gasDict, state_id in zip(gasPriceState_data, States_fipsId.values()):\n",
    "    gasDict['id'] = state_id\n",
    "    print(gasDict)\n",
    "\n",
    "with open('static/data/gasPriceState.json', 'w') as fp:\n",
    "    json.dump(gasPriceState_data, fp)"
   ]
  },
  {
   "cell_type": "code",
   "execution_count": null,
   "metadata": {},
   "outputs": [],
   "source": []
  }
 ],
 "metadata": {
  "kernelspec": {
   "display_name": "Python 3",
   "language": "python",
   "name": "python3"
  },
  "language_info": {
   "codemirror_mode": {
    "name": "ipython",
    "version": 3
   },
   "file_extension": ".py",
   "mimetype": "text/x-python",
   "name": "python",
   "nbconvert_exporter": "python",
   "pygments_lexer": "ipython3",
   "version": "3.7.7-final"
  }
 },
 "nbformat": 4,
 "nbformat_minor": 4
}