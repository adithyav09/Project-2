{
 "cells": [
  {
   "cell_type": "code",
   "execution_count": 67,
   "metadata": {},
   "outputs": [],
   "source": [
    "#Import Dependencies\n",
    "import requests\n",
    "import http.client\n",
    "import json\n",
    "import geojson\n",
    "import time"
   ]
  },
  {
   "cell_type": "code",
   "execution_count": 2,
   "metadata": {
    "tags": []
   },
   "outputs": [
    {
     "output_type": "stream",
     "name": "stdout",
     "text": [
      "{\"success\":true,\"result\":[{\"currency\":\"usd\",\"name\":\"Alaska\",\"gasoline\":\"2.512\",\"midGrade\":\"2.643\",\"premium\":\"2.814\",\"diesel\":\"2.403\"},{\"currency\":\"usd\",\"name\":\"Alabama\",\"gasoline\":\"1.907\",\"midGrade\":\"2.237\",\"premium\":\"2.566\",\"diesel\":\"2.240\"},{\"currency\":\"usd\",\"name\":\"Arkansas\",\"gasoline\":\"1.887\",\"midGrade\":\"2.196\",\"premium\":\"2.491\",\"diesel\":\"2.132\"},{\"currency\":\"usd\",\"name\":\"Arizona\",\"gasoline\":\"2.272\",\"midGrade\":\"2.557\",\"premium\":\"2.809\",\"diesel\":\"2.420\"},{\"currency\":\"usd\",\"name\":\"California\",\"gasoline\":\"3.207\",\"midGrade\":\"3.391\",\"premium\":\"3.509\",\"diesel\":\"3.343\"},{\"currency\":\"usd\",\"name\":\"Colorado\",\"gasoline\":\"2.260\",\"midGrade\":\"2.574\",\"premium\":\"2.857\",\"diesel\":\"2.185\"},{\"currency\":\"usd\",\"name\":\"Connecticut\",\"gasoline\":\"2.184\",\"midGrade\":\"2.526\",\"premium\":\"2.763\",\"diesel\":\"2.687\"},{\"currency\":\"usd\",\"name\":\"District of Columbia\",\"gasoline\":\"2.396\",\"midGrade\":\"2.893\",\"premium\":\"3.037\",\"diesel\":\"2.858\"},{\"currency\":\"usd\",\"name\":\"Delaware\",\"gasoline\":\"2.314\",\"midGrade\":\"2.678\",\"premium\":\"2.916\",\"diesel\":\"2.333\"},{\"currency\":\"usd\",\"name\":\"Florida\",\"gasoline\":\"2.163\",\"midGrade\":\"2.517\",\"premium\":\"2.807\",\"diesel\":\"2.326\"},{\"currency\":\"usd\",\"name\":\"Georgia\",\"gasoline\":\"1.996\",\"midGrade\":\"2.329\",\"premium\":\"2.634\",\"diesel\":\"2.426\"},{\"currency\":\"usd\",\"name\":\"Hawaii\",\"gasoline\":\"3.254\",\"midGrade\":\"3.445\",\"premium\":\"3.663\",\"diesel\":\"4.048\"},{\"currency\":\"usd\",\"name\":\"Iowa\",\"gasoline\":\"2.069\",\"midGrade\":\"2.232\",\"premium\":\"2.618\",\"diesel\":\"2.179\"},{\"currency\":\"usd\",\"name\":\"Idaho\",\"gasoline\":\"2.376\",\"midGrade\":\"2.533\",\"premium\":\"2.730\",\"diesel\":\"2.340\"},{\"currency\":\"usd\",\"name\":\"Illinois\",\"gasoline\":\"2.283\",\"midGrade\":\"2.635\",\"premium\":\"3.037\",\"diesel\":\"2.384\"},{\"currency\":\"usd\",\"name\":\"Indiana\",\"gasoline\":\"2.128\",\"midGrade\":\"2.446\",\"premium\":\"2.763\",\"diesel\":\"2.427\"},{\"currency\":\"usd\",\"name\":\"Kansas\",\"gasoline\":\"1.954\",\"midGrade\":\"2.208\",\"premium\":\"2.441\",\"diesel\":\"2.108\"},{\"currency\":\"usd\",\"name\":\"Kentucky\",\"gasoline\":\"1.999\",\"midGrade\":\"2.329\",\"premium\":\"2.640\",\"diesel\":\"2.230\"},{\"currency\":\"usd\",\"name\":\"Louisiana\",\"gasoline\":\"1.901\",\"midGrade\":\"2.227\",\"premium\":\"2.534\",\"diesel\":\"2.215\"},{\"currency\":\"usd\",\"name\":\"Massachusetts\",\"gasoline\":\"2.114\",\"midGrade\":\"2.470\",\"premium\":\"2.684\",\"diesel\":\"2.560\"},{\"currency\":\"usd\",\"name\":\"Maryland\",\"gasoline\":\"2.307\",\"midGrade\":\"2.734\",\"premium\":\"2.973\",\"diesel\":\"2.420\"},{\"currency\":\"usd\",\"name\":\"Maine\",\"gasoline\":\"2.178\",\"midGrade\":\"2.492\",\"premium\":\"2.762\",\"diesel\":\"2.490\"},{\"currency\":\"usd\",\"name\":\"Michigan\",\"gasoline\":\"2.122\",\"midGrade\":\"2.438\",\"premium\":\"2.771\",\"diesel\":\"2.373\"},{\"currency\":\"usd\",\"name\":\"Minnesota\",\"gasoline\":\"2.029\",\"midGrade\":\"2.269\",\"premium\":\"2.576\",\"diesel\":\"2.304\"},{\"currency\":\"usd\",\"name\":\"Missouri\",\"gasoline\":\"1.875\",\"midGrade\":\"2.126\",\"premium\":\"2.397\",\"diesel\":\"1.997\"},{\"currency\":\"usd\",\"name\":\"Mississippi\",\"gasoline\":\"1.858\",\"midGrade\":\"2.160\",\"premium\":\"2.487\",\"diesel\":\"2.079\"},{\"currency\":\"usd\",\"name\":\"Montana\",\"gasoline\":\"2.245\",\"midGrade\":\"2.517\",\"premium\":\"2.765\",\"diesel\":\"2.255\"},{\"currency\":\"usd\",\"name\":\"North Carolina\",\"gasoline\":\"2.044\",\"midGrade\":\"2.381\",\"premium\":\"2.708\",\"diesel\":\"2.311\"},{\"currency\":\"usd\",\"name\":\"North Dakota\",\"gasoline\":\"2.066\",\"midGrade\":\"2.286\",\"premium\":\"2.489\",\"diesel\":\"2.146\"},{\"currency\":\"usd\",\"name\":\"Nebraska\",\"gasoline\":\"2.120\",\"midGrade\":\"2.248\",\"premium\":\"2.596\",\"diesel\":\"2.191\"},{\"currency\":\"usd\",\"name\":\"New Hampshire\",\"gasoline\":\"2.077\",\"midGrade\":\"2.454\",\"premium\":\"2.719\",\"diesel\":\"2.468\"},{\"currency\":\"usd\",\"name\":\"New Jersey\",\"gasoline\":\"2.240\",\"midGrade\":\"2.605\",\"premium\":\"2.792\",\"diesel\":\"2.517\"},{\"currency\":\"usd\",\"name\":\"New Mexico\",\"gasoline\":\"2.044\",\"midGrade\":\"2.357\",\"premium\":\"2.610\",\"diesel\":\"2.299\"},{\"currency\":\"usd\",\"name\":\"Nevada\",\"gasoline\":\"2.644\",\"midGrade\":\"2.858\",\"premium\":\"3.039\",\"diesel\":\"2.593\"},{\"currency\":\"usd\",\"name\":\"New York\",\"gasoline\":\"2.257\",\"midGrade\":\"2.580\",\"premium\":\"2.817\",\"diesel\":\"2.788\"},{\"currency\":\"usd\",\"name\":\"Ohio\",\"gasoline\":\"2.069\",\"midGrade\":\"2.403\",\"premium\":\"2.736\",\"diesel\":\"2.369\"},{\"currency\":\"usd\",\"name\":\"Oklahoma\",\"gasoline\":\"1.887\",\"midGrade\":\"2.141\",\"premium\":\"2.338\",\"diesel\":\"1.995\"},{\"currency\":\"usd\",\"name\":\"Oregon\",\"gasoline\":\"2.606\",\"midGrade\":\"2.791\",\"premium\":\"2.965\",\"diesel\":\"2.588\"},{\"currency\":\"usd\",\"name\":\"Pennsylvania\",\"gasoline\":\"2.494\",\"midGrade\":\"2.804\",\"premium\":\"3.082\",\"diesel\":\"2.752\"},{\"currency\":\"usd\",\"name\":\"Rhode Island\",\"gasoline\":\"2.136\",\"midGrade\":\"2.521\",\"premium\":\"2.725\",\"diesel\":\"2.631\"},{\"currency\":\"usd\",\"name\":\"South Carolina\",\"gasoline\":\"1.944\",\"midGrade\":\"2.268\",\"premium\":\"2.583\",\"diesel\":\"2.159\"},{\"currency\":\"usd\",\"name\":\"South Dakota\",\"gasoline\":\"2.107\",\"midGrade\":\"2.221\",\"premium\":\"2.537\",\"diesel\":\"2.216\"},{\"currency\":\"usd\",\"name\":\"Tennessee\",\"gasoline\":\"1.942\",\"midGrade\":\"2.274\",\"premium\":\"2.599\",\"diesel\":\"2.271\"},{\"currency\":\"usd\",\"name\":\"Texas\",\"gasoline\":\"1.860\",\"midGrade\":\"2.187\",\"premium\":\"2.477\",\"diesel\":\"2.021\"},{\"currency\":\"usd\",\"name\":\"Utah\",\"gasoline\":\"2.395\",\"midGrade\":\"2.561\",\"premium\":\"2.733\",\"diesel\":\"2.358\"},{\"currency\":\"usd\",\"name\":\"Virginia\",\"gasoline\":\"2.091\",\"midGrade\":\"2.470\",\"premium\":\"2.765\",\"diesel\":\"2.333\"},{\"currency\":\"usd\",\"name\":\"Vermont\",\"gasoline\":\"2.157\",\"midGrade\":\"2.497\",\"premium\":\"2.771\",\"diesel\":\"2.505\"},{\"currency\":\"usd\",\"name\":\"Washington\",\"gasoline\":\"2.783\",\"midGrade\":\"3.008\",\"premium\":\"3.163\",\"diesel\":\"2.715\"},{\"currency\":\"usd\",\"name\":\"Wisconsin\",\"gasoline\":\"2.003\",\"midGrade\":\"2.345\",\"premium\":\"2.721\",\"diesel\":\"2.115\"},{\"currency\":\"usd\",\"name\":\"West Virginia\",\"gasoline\":\"2.228\",\"midGrade\":\"2.509\",\"premium\":\"2.807\",\"diesel\":\"2.374\"},{\"currency\":\"usd\",\"name\":\"Wyoming\",\"gasoline\":\"2.213\",\"midGrade\":\"2.433\",\"premium\":\"2.668\",\"diesel\":\"2.350\"}]}\n"
     ]
    }
   ],
   "source": [
    "#Fetch the data using API and client format\n",
    "import http.client\n",
    "\n",
    "conn = http.client.HTTPSConnection(\"api.collectapi.com\")\n",
    "\n",
    "headers = {\n",
    "    'content-type': \"application/json\",\n",
    "    'authorization': \"apikey 095qy5emUONDSAcb8TZFvG:0lLiUg1Hj1hxHS9mCEob3m\"\n",
    "    }\n",
    "\n",
    "conn.request(\"GET\", \"/gasPrice/allUsaPrice\", headers=headers)\n",
    "\n",
    "res = conn.getresponse()\n",
    "raw_data = res.read()\n",
    "\n",
    "#Printing the results after decoding from bytes to review data\n",
    "print(raw_data.decode(\"utf-8\"))"
   ]
  },
  {
   "cell_type": "code",
   "execution_count": 3,
   "metadata": {
    "tags": []
   },
   "outputs": [
    {
     "output_type": "stream",
     "name": "stdout",
     "text": [
      "[{'currency': 'usd', 'name': 'Alaska', 'gasoline': '2.512', 'midGrade': '2.643', 'premium': '2.814', 'diesel': '2.403'}, {'currency': 'usd', 'name': 'Alabama', 'gasoline': '1.907', 'midGrade': '2.237', 'premium': '2.566', 'diesel': '2.240'}, {'currency': 'usd', 'name': 'Arkansas', 'gasoline': '1.887', 'midGrade': '2.196', 'premium': '2.491', 'diesel': '2.132'}, {'currency': 'usd', 'name': 'Arizona', 'gasoline': '2.272', 'midGrade': '2.557', 'premium': '2.809', 'diesel': '2.420'}, {'currency': 'usd', 'name': 'California', 'gasoline': '3.207', 'midGrade': '3.391', 'premium': '3.509', 'diesel': '3.343'}, {'currency': 'usd', 'name': 'Colorado', 'gasoline': '2.260', 'midGrade': '2.574', 'premium': '2.857', 'diesel': '2.185'}, {'currency': 'usd', 'name': 'Connecticut', 'gasoline': '2.184', 'midGrade': '2.526', 'premium': '2.763', 'diesel': '2.687'}, {'currency': 'usd', 'name': 'District of Columbia', 'gasoline': '2.396', 'midGrade': '2.893', 'premium': '3.037', 'diesel': '2.858'}, {'currency': 'usd', 'name': 'Delaware', 'gasoline': '2.314', 'midGrade': '2.678', 'premium': '2.916', 'diesel': '2.333'}, {'currency': 'usd', 'name': 'Florida', 'gasoline': '2.163', 'midGrade': '2.517', 'premium': '2.807', 'diesel': '2.326'}, {'currency': 'usd', 'name': 'Georgia', 'gasoline': '1.996', 'midGrade': '2.329', 'premium': '2.634', 'diesel': '2.426'}, {'currency': 'usd', 'name': 'Hawaii', 'gasoline': '3.254', 'midGrade': '3.445', 'premium': '3.663', 'diesel': '4.048'}, {'currency': 'usd', 'name': 'Iowa', 'gasoline': '2.069', 'midGrade': '2.232', 'premium': '2.618', 'diesel': '2.179'}, {'currency': 'usd', 'name': 'Idaho', 'gasoline': '2.376', 'midGrade': '2.533', 'premium': '2.730', 'diesel': '2.340'}, {'currency': 'usd', 'name': 'Illinois', 'gasoline': '2.283', 'midGrade': '2.635', 'premium': '3.037', 'diesel': '2.384'}, {'currency': 'usd', 'name': 'Indiana', 'gasoline': '2.128', 'midGrade': '2.446', 'premium': '2.763', 'diesel': '2.427'}, {'currency': 'usd', 'name': 'Kansas', 'gasoline': '1.954', 'midGrade': '2.208', 'premium': '2.441', 'diesel': '2.108'}, {'currency': 'usd', 'name': 'Kentucky', 'gasoline': '1.999', 'midGrade': '2.329', 'premium': '2.640', 'diesel': '2.230'}, {'currency': 'usd', 'name': 'Louisiana', 'gasoline': '1.901', 'midGrade': '2.227', 'premium': '2.534', 'diesel': '2.215'}, {'currency': 'usd', 'name': 'Massachusetts', 'gasoline': '2.114', 'midGrade': '2.470', 'premium': '2.684', 'diesel': '2.560'}, {'currency': 'usd', 'name': 'Maryland', 'gasoline': '2.307', 'midGrade': '2.734', 'premium': '2.973', 'diesel': '2.420'}, {'currency': 'usd', 'name': 'Maine', 'gasoline': '2.178', 'midGrade': '2.492', 'premium': '2.762', 'diesel': '2.490'}, {'currency': 'usd', 'name': 'Michigan', 'gasoline': '2.122', 'midGrade': '2.438', 'premium': '2.771', 'diesel': '2.373'}, {'currency': 'usd', 'name': 'Minnesota', 'gasoline': '2.029', 'midGrade': '2.269', 'premium': '2.576', 'diesel': '2.304'}, {'currency': 'usd', 'name': 'Missouri', 'gasoline': '1.875', 'midGrade': '2.126', 'premium': '2.397', 'diesel': '1.997'}, {'currency': 'usd', 'name': 'Mississippi', 'gasoline': '1.858', 'midGrade': '2.160', 'premium': '2.487', 'diesel': '2.079'}, {'currency': 'usd', 'name': 'Montana', 'gasoline': '2.245', 'midGrade': '2.517', 'premium': '2.765', 'diesel': '2.255'}, {'currency': 'usd', 'name': 'North Carolina', 'gasoline': '2.044', 'midGrade': '2.381', 'premium': '2.708', 'diesel': '2.311'}, {'currency': 'usd', 'name': 'North Dakota', 'gasoline': '2.066', 'midGrade': '2.286', 'premium': '2.489', 'diesel': '2.146'}, {'currency': 'usd', 'name': 'Nebraska', 'gasoline': '2.120', 'midGrade': '2.248', 'premium': '2.596', 'diesel': '2.191'}, {'currency': 'usd', 'name': 'New Hampshire', 'gasoline': '2.077', 'midGrade': '2.454', 'premium': '2.719', 'diesel': '2.468'}, {'currency': 'usd', 'name': 'New Jersey', 'gasoline': '2.240', 'midGrade': '2.605', 'premium': '2.792', 'diesel': '2.517'}, {'currency': 'usd', 'name': 'New Mexico', 'gasoline': '2.044', 'midGrade': '2.357', 'premium': '2.610', 'diesel': '2.299'}, {'currency': 'usd', 'name': 'Nevada', 'gasoline': '2.644', 'midGrade': '2.858', 'premium': '3.039', 'diesel': '2.593'}, {'currency': 'usd', 'name': 'New York', 'gasoline': '2.257', 'midGrade': '2.580', 'premium': '2.817', 'diesel': '2.788'}, {'currency': 'usd', 'name': 'Ohio', 'gasoline': '2.069', 'midGrade': '2.403', 'premium': '2.736', 'diesel': '2.369'}, {'currency': 'usd', 'name': 'Oklahoma', 'gasoline': '1.887', 'midGrade': '2.141', 'premium': '2.338', 'diesel': '1.995'}, {'currency': 'usd', 'name': 'Oregon', 'gasoline': '2.606', 'midGrade': '2.791', 'premium': '2.965', 'diesel': '2.588'}, {'currency': 'usd', 'name': 'Pennsylvania', 'gasoline': '2.494', 'midGrade': '2.804', 'premium': '3.082', 'diesel': '2.752'}, {'currency': 'usd', 'name': 'Rhode Island', 'gasoline': '2.136', 'midGrade': '2.521', 'premium': '2.725', 'diesel': '2.631'}, {'currency': 'usd', 'name': 'South Carolina', 'gasoline': '1.944', 'midGrade': '2.268', 'premium': '2.583', 'diesel': '2.159'}, {'currency': 'usd', 'name': 'South Dakota', 'gasoline': '2.107', 'midGrade': '2.221', 'premium': '2.537', 'diesel': '2.216'}, {'currency': 'usd', 'name': 'Tennessee', 'gasoline': '1.942', 'midGrade': '2.274', 'premium': '2.599', 'diesel': '2.271'}, {'currency': 'usd', 'name': 'Texas', 'gasoline': '1.860', 'midGrade': '2.187', 'premium': '2.477', 'diesel': '2.021'}, {'currency': 'usd', 'name': 'Utah', 'gasoline': '2.395', 'midGrade': '2.561', 'premium': '2.733', 'diesel': '2.358'}, {'currency': 'usd', 'name': 'Virginia', 'gasoline': '2.091', 'midGrade': '2.470', 'premium': '2.765', 'diesel': '2.333'}, {'currency': 'usd', 'name': 'Vermont', 'gasoline': '2.157', 'midGrade': '2.497', 'premium': '2.771', 'diesel': '2.505'}, {'currency': 'usd', 'name': 'Washington', 'gasoline': '2.783', 'midGrade': '3.008', 'premium': '3.163', 'diesel': '2.715'}, {'currency': 'usd', 'name': 'Wisconsin', 'gasoline': '2.003', 'midGrade': '2.345', 'premium': '2.721', 'diesel': '2.115'}, {'currency': 'usd', 'name': 'West Virginia', 'gasoline': '2.228', 'midGrade': '2.509', 'premium': '2.807', 'diesel': '2.374'}, {'currency': 'usd', 'name': 'Wyoming', 'gasoline': '2.213', 'midGrade': '2.433', 'premium': '2.668', 'diesel': '2.350'}]\n"
     ]
    }
   ],
   "source": [
    "#Converting the byte array by decoding and then loading through JSON\n",
    "gasPriceState_data = raw_data.decode('utf8')\n",
    "gasPriceState_data = json.loads(gasPriceState_data)\n",
    "gasPriceState_data = gasPriceState_data['result']\n",
    "print(gasPriceState_data)"
   ]
  },
  {
   "cell_type": "code",
   "execution_count": 132,
   "metadata": {},
   "outputs": [],
   "source": [
    "with open('static/data/gasPriceState.json', 'w') as fp:\n",
    "    json.dump(gasPriceState_data, fp)"
   ]
  },
  {
   "cell_type": "code",
   "execution_count": 93,
   "metadata": {},
   "outputs": [],
   "source": [
    "#Recieved fips ID for each state in order to change apply it into the gasPrice JSON dictionary by matching by state key\n",
    "State_fipsId = {\n",
    "'Alabama': '01',\n",
    "'Alaska': '02',\n",
    "'Arizona': '04',\n",
    "'Arkansas': '05',\n",
    "'California': '06',\n",
    "'Colorado': '08',\n",
    "'Connecticut': '09',\n",
    "'Delaware': '10',\n",
    "'District Of Columbia': '11',\n",
    "'Florida': '12',\n",
    "'Georgia': '13',\n",
    "'Hawaii': '15',\n",
    "'Idaho': '16',\n",
    "'Illinois': '17',\n",
    "'Indiana': '18',\n",
    "'Iowa': '19',\n",
    "'Kansas': '20',\n",
    "'Kentucky': '21',\n",
    "'Louisiana': '22',\n",
    "'Maine': '23',\n",
    "'Maryland': '24',\n",
    "'Massachusetts': '25',\n",
    "'Michigan': '26',\n",
    "'Minnesota': '27',\n",
    "'Mississippi': '28',\n",
    "'Missouri': '29',\n",
    "'Montana': '30',\n",
    "'Nebraska': '31',\n",
    "'Nevada': '32',\n",
    "'New Hampshire': '33',\n",
    "'New Jersey': '34',\n",
    "'New Mexico': '35',\n",
    "'New York': '36',\n",
    "'North Carolina': '37',\n",
    "'North Dakota': '38',\n",
    "'Ohio': '39',\n",
    "'Oklahoma': '40',\n",
    "'Oregon': '41',\n",
    "'Pennsylvania': '42',\n",
    "'Rhode Island': '44',\n",
    "'South Carolina': '45',\n",
    "'South Dakota': '46',\n",
    "'Tennessee': '47',\n",
    "'Texas': '48',\n",
    "'Utah': '49',\n",
    "'Vermont': '50',\n",
    "'Virginia': '51',\n",
    "'Washington': '53',\n",
    "'West Virginia': '54',\n",
    "'Wisconsin': '55',\n",
    "'Wyoming': '56'\n",
    "}"
   ]
  },
  {
   "cell_type": "code",
   "execution_count": 138,
   "metadata": {},
   "outputs": [],
   "source": [
    "#Testing to see if the id paid works\n",
    "Alaska_collection = gasPriceState_data[0]\n",
    "Alaska_collection['id'] = '02'\n",
    "Alaska_collection\n",
    "\n",
    "with open('static/data/Alaska.json', 'w') as fp:\n",
    "    json.dump(Alaska_collection, fp)\n"
   ]
  },
  {
   "cell_type": "code",
   "execution_count": null,
   "metadata": {},
   "outputs": [],
   "source": [
    "# geojson = {\n",
    "#     \"type\": \"FeatureCollection\",\n",
    "#     \"features\": [\n",
    "#     {\n",
    "#       \"type\": \"Feature\", \"id\":\"(ID NUMBER)\", \"properties\" : {\"name\":(STATE), \"gasolineData\": (GAS DATA), \"midGradeData\":(MID DATA), \"premiumData\": (PREM DATA),\"dieselData\": (DIESEL DATA)},\n",
    "#         \"geometry\" : {\n",
    "#             \"type\": \"Polygon\",\n",
    "#             \"coordinates\": [d[\"lon\"], d[\"lat\"]],\n",
    "#             },\n",
    "#      } for d in stateData]\n",
    "# }"
   ]
  },
  {
   "cell_type": "code",
   "execution_count": null,
   "metadata": {},
   "outputs": [],
   "source": [
    "# with open(\"static/data/statesData.geojson\") as f:\n",
    "#     gj = geojson.load(f)\n",
    "#     print(gj)"
   ]
  }
 ],
 "metadata": {
  "kernelspec": {
   "display_name": "Python 3",
   "language": "python",
   "name": "python3"
  },
  "language_info": {
   "codemirror_mode": {
    "name": "ipython",
    "version": 3
   },
   "file_extension": ".py",
   "mimetype": "text/x-python",
   "name": "python",
   "nbconvert_exporter": "python",
   "pygments_lexer": "ipython3",
   "version": "3.7.7-final"
  }
 },
 "nbformat": 4,
 "nbformat_minor": 4
}