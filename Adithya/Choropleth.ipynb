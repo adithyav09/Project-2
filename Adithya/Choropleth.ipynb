{
 "cells": [
  {
   "cell_type": "code",
   "execution_count": 67,
   "metadata": {},
   "outputs": [],
   "source": [
    "#Import Dependencies\n",
    "import requests\n",
    "import http.client\n",
    "import json\n",
    "import geojson\n",
    "import time"
   ]
  },
  {
   "cell_type": "code",
   "execution_count": 1,
   "metadata": {
    "tags": []
   },
   "outputs": [
    {
     "output_type": "stream",
     "name": "stdout",
     "text": [
      "{\"success\":true,\"result\":[{\"currency\":\"usd\",\"name\":\"Alaska\",\"gasoline\":\"2.494\",\"midGrade\":\"2.644\",\"premium\":\"2.808\",\"diesel\":\"2.394\"},{\"currency\":\"usd\",\"name\":\"Alabama\",\"gasoline\":\"1.908\",\"midGrade\":\"2.241\",\"premium\":\"2.568\",\"diesel\":\"2.243\"},{\"currency\":\"usd\",\"name\":\"Arkansas\",\"gasoline\":\"1.885\",\"midGrade\":\"2.185\",\"premium\":\"2.471\",\"diesel\":\"2.133\"},{\"currency\":\"usd\",\"name\":\"Arizona\",\"gasoline\":\"2.267\",\"midGrade\":\"2.550\",\"premium\":\"2.801\",\"diesel\":\"2.418\"},{\"currency\":\"usd\",\"name\":\"California\",\"gasoline\":\"3.203\",\"midGrade\":\"3.385\",\"premium\":\"3.505\",\"diesel\":\"3.344\"},{\"currency\":\"usd\",\"name\":\"Colorado\",\"gasoline\":\"2.258\",\"midGrade\":\"2.571\",\"premium\":\"2.853\",\"diesel\":\"2.186\"},{\"currency\":\"usd\",\"name\":\"Connecticut\",\"gasoline\":\"2.183\",\"midGrade\":\"2.535\",\"premium\":\"2.765\",\"diesel\":\"2.695\"},{\"currency\":\"usd\",\"name\":\"District of Columbia\",\"gasoline\":\"2.393\",\"midGrade\":\"2.912\",\"premium\":\"3.028\",\"diesel\":\"2.870\"},{\"currency\":\"usd\",\"name\":\"Delaware\",\"gasoline\":\"2.327\",\"midGrade\":\"2.705\",\"premium\":\"2.914\",\"diesel\":\"2.328\"},{\"currency\":\"usd\",\"name\":\"Florida\",\"gasoline\":\"2.150\",\"midGrade\":\"2.501\",\"premium\":\"2.794\",\"diesel\":\"2.320\"},{\"currency\":\"usd\",\"name\":\"Georgia\",\"gasoline\":\"1.994\",\"midGrade\":\"2.332\",\"premium\":\"2.640\",\"diesel\":\"2.429\"},{\"currency\":\"usd\",\"name\":\"Hawaii\",\"gasoline\":\"3.261\",\"midGrade\":\"3.461\",\"premium\":\"3.670\",\"diesel\":\"4.036\"},{\"currency\":\"usd\",\"name\":\"Iowa\",\"gasoline\":\"2.066\",\"midGrade\":\"2.236\",\"premium\":\"2.617\",\"diesel\":\"2.177\"},{\"currency\":\"usd\",\"name\":\"Idaho\",\"gasoline\":\"2.369\",\"midGrade\":\"2.535\",\"premium\":\"2.725\",\"diesel\":\"2.340\"},{\"currency\":\"usd\",\"name\":\"Illinois\",\"gasoline\":\"2.272\",\"midGrade\":\"2.620\",\"premium\":\"3.021\",\"diesel\":\"2.382\"},{\"currency\":\"usd\",\"name\":\"Indiana\",\"gasoline\":\"2.090\",\"midGrade\":\"2.420\",\"premium\":\"2.739\",\"diesel\":\"2.426\"},{\"currency\":\"usd\",\"name\":\"Kansas\",\"gasoline\":\"1.951\",\"midGrade\":\"2.210\",\"premium\":\"2.437\",\"diesel\":\"2.111\"},{\"currency\":\"usd\",\"name\":\"Kentucky\",\"gasoline\":\"1.984\",\"midGrade\":\"2.313\",\"premium\":\"2.624\",\"diesel\":\"2.224\"},{\"currency\":\"usd\",\"name\":\"Louisiana\",\"gasoline\":\"1.911\",\"midGrade\":\"2.228\",\"premium\":\"2.535\",\"diesel\":\"2.212\"},{\"currency\":\"usd\",\"name\":\"Massachusetts\",\"gasoline\":\"2.113\",\"midGrade\":\"2.474\",\"premium\":\"2.684\",\"diesel\":\"2.552\"},{\"currency\":\"usd\",\"name\":\"Maryland\",\"gasoline\":\"2.318\",\"midGrade\":\"2.752\",\"premium\":\"2.970\",\"diesel\":\"2.415\"},{\"currency\":\"usd\",\"name\":\"Maine\",\"gasoline\":\"2.178\",\"midGrade\":\"2.494\",\"premium\":\"2.749\",\"diesel\":\"2.490\"},{\"currency\":\"usd\",\"name\":\"Michigan\",\"gasoline\":\"2.094\",\"midGrade\":\"2.419\",\"premium\":\"2.751\",\"diesel\":\"2.377\"},{\"currency\":\"usd\",\"name\":\"Minnesota\",\"gasoline\":\"2.020\",\"midGrade\":\"2.259\",\"premium\":\"2.562\",\"diesel\":\"2.301\"},{\"currency\":\"usd\",\"name\":\"Missouri\",\"gasoline\":\"1.867\",\"midGrade\":\"2.123\",\"premium\":\"2.386\",\"diesel\":\"1.993\"},{\"currency\":\"usd\",\"name\":\"Mississippi\",\"gasoline\":\"1.857\",\"midGrade\":\"2.160\",\"premium\":\"2.487\",\"diesel\":\"2.078\"},{\"currency\":\"usd\",\"name\":\"Montana\",\"gasoline\":\"2.248\",\"midGrade\":\"2.503\",\"premium\":\"2.752\",\"diesel\":\"2.257\"},{\"currency\":\"usd\",\"name\":\"North Carolina\",\"gasoline\":\"2.029\",\"midGrade\":\"2.371\",\"premium\":\"2.695\",\"diesel\":\"2.304\"},{\"currency\":\"usd\",\"name\":\"North Dakota\",\"gasoline\":\"2.074\",\"midGrade\":\"2.285\",\"premium\":\"2.493\",\"diesel\":\"2.156\"},{\"currency\":\"usd\",\"name\":\"Nebraska\",\"gasoline\":\"2.138\",\"midGrade\":\"2.237\",\"premium\":\"2.600\",\"diesel\":\"2.189\"},{\"currency\":\"usd\",\"name\":\"New Hampshire\",\"gasoline\":\"2.075\",\"midGrade\":\"2.454\",\"premium\":\"2.719\",\"diesel\":\"2.464\"},{\"currency\":\"usd\",\"name\":\"New Jersey\",\"gasoline\":\"2.245\",\"midGrade\":\"2.613\",\"premium\":\"2.798\",\"diesel\":\"2.518\"},{\"currency\":\"usd\",\"name\":\"New Mexico\",\"gasoline\":\"2.037\",\"midGrade\":\"2.354\",\"premium\":\"2.607\",\"diesel\":\"2.299\"},{\"currency\":\"usd\",\"name\":\"Nevada\",\"gasoline\":\"2.636\",\"midGrade\":\"2.850\",\"premium\":\"3.030\",\"diesel\":\"2.585\"},{\"currency\":\"usd\",\"name\":\"New York\",\"gasoline\":\"2.255\",\"midGrade\":\"2.579\",\"premium\":\"2.810\",\"diesel\":\"2.784\"},{\"currency\":\"usd\",\"name\":\"Ohio\",\"gasoline\":\"2.033\",\"midGrade\":\"2.366\",\"premium\":\"2.703\",\"diesel\":\"2.366\"},{\"currency\":\"usd\",\"name\":\"Oklahoma\",\"gasoline\":\"1.883\",\"midGrade\":\"2.133\",\"premium\":\"2.342\",\"diesel\":\"1.993\"},{\"currency\":\"usd\",\"name\":\"Oregon\",\"gasoline\":\"2.601\",\"midGrade\":\"2.789\",\"premium\":\"2.969\",\"diesel\":\"2.576\"},{\"currency\":\"usd\",\"name\":\"Pennsylvania\",\"gasoline\":\"2.490\",\"midGrade\":\"2.801\",\"premium\":\"3.079\",\"diesel\":\"2.747\"},{\"currency\":\"usd\",\"name\":\"Rhode Island\",\"gasoline\":\"2.132\",\"midGrade\":\"2.522\",\"premium\":\"2.742\",\"diesel\":\"2.618\"},{\"currency\":\"usd\",\"name\":\"South Carolina\",\"gasoline\":\"1.935\",\"midGrade\":\"2.266\",\"premium\":\"2.586\",\"diesel\":\"2.160\"},{\"currency\":\"usd\",\"name\":\"South Dakota\",\"gasoline\":\"2.113\",\"midGrade\":\"2.238\",\"premium\":\"2.548\",\"diesel\":\"2.214\"},{\"currency\":\"usd\",\"name\":\"Tennessee\",\"gasoline\":\"1.946\",\"midGrade\":\"2.274\",\"premium\":\"2.605\",\"diesel\":\"2.281\"},{\"currency\":\"usd\",\"name\":\"Texas\",\"gasoline\":\"1.865\",\"midGrade\":\"2.193\",\"premium\":\"2.480\",\"diesel\":\"2.023\"},{\"currency\":\"usd\",\"name\":\"Utah\",\"gasoline\":\"2.397\",\"midGrade\":\"2.557\",\"premium\":\"2.724\",\"diesel\":\"2.350\"},{\"currency\":\"usd\",\"name\":\"Virginia\",\"gasoline\":\"2.087\",\"midGrade\":\"2.465\",\"premium\":\"2.756\",\"diesel\":\"2.331\"},{\"currency\":\"usd\",\"name\":\"Vermont\",\"gasoline\":\"2.154\",\"midGrade\":\"2.509\",\"premium\":\"2.782\",\"diesel\":\"2.500\"},{\"currency\":\"usd\",\"name\":\"Washington\",\"gasoline\":\"2.781\",\"midGrade\":\"3.004\",\"premium\":\"3.161\",\"diesel\":\"2.707\"},{\"currency\":\"usd\",\"name\":\"Wisconsin\",\"gasoline\":\"1.991\",\"midGrade\":\"2.334\",\"premium\":\"2.707\",\"diesel\":\"2.117\"},{\"currency\":\"usd\",\"name\":\"West Virginia\",\"gasoline\":\"2.215\",\"midGrade\":\"2.499\",\"premium\":\"2.792\",\"diesel\":\"2.375\"},{\"currency\":\"usd\",\"name\":\"Wyoming\",\"gasoline\":\"2.214\",\"midGrade\":\"2.432\",\"premium\":\"2.657\",\"diesel\":\"2.341\"}]}\n"
     ]
    }
   ],
   "source": [
    "#Fetch the data using API and client format\n",
    "import http.client\n",
    "\n",
    "conn = http.client.HTTPSConnection(\"api.collectapi.com\")\n",
    "\n",
    "headers = {\n",
    "    'content-type': \"application/json\",\n",
    "    'authorization': \"apikey 095qy5emUONDSAcb8TZFvG:0lLiUg1Hj1hxHS9mCEob3m\"\n",
    "    }\n",
    "\n",
    "conn.request(\"GET\", \"/gasPrice/allUsaPrice\", headers=headers)\n",
    "\n",
    "res = conn.getresponse()\n",
    "raw_data = res.read()\n",
    "\n",
    "#Printing the results after decoding from bytes to review data\n",
    "print(raw_data.decode(\"utf-8\"))"
   ]
  },
  {
   "cell_type": "code",
   "execution_count": 303,
   "metadata": {
    "tags": []
   },
   "outputs": [
    {
     "output_type": "stream",
     "name": "stdout",
     "text": [
      "[{'currency': 'usd', 'name': 'Alaska', 'gasoline': '2.498', 'midGrade': '2.643', 'premium': '2.803', 'diesel': '2.395'}, {'currency': 'usd', 'name': 'Alabama', 'gasoline': '1.908', 'midGrade': '2.237', 'premium': '2.569', 'diesel': '2.239'}, {'currency': 'usd', 'name': 'Arkansas', 'gasoline': '1.885', 'midGrade': '2.176', 'premium': '2.467', 'diesel': '2.132'}, {'currency': 'usd', 'name': 'Arizona', 'gasoline': '2.268', 'midGrade': '2.551', 'premium': '2.803', 'diesel': '2.421'}, {'currency': 'usd', 'name': 'California', 'gasoline': '3.204', 'midGrade': '3.388', 'premium': '3.508', 'diesel': '3.341'}, {'currency': 'usd', 'name': 'Colorado', 'gasoline': '2.259', 'midGrade': '2.572', 'premium': '2.855', 'diesel': '2.185'}, {'currency': 'usd', 'name': 'Connecticut', 'gasoline': '2.179', 'midGrade': '2.525', 'premium': '2.755', 'diesel': '2.693'}, {'currency': 'usd', 'name': 'District of Columbia', 'gasoline': '2.396', 'midGrade': '2.896', 'premium': '3.021', 'diesel': '2.846'}, {'currency': 'usd', 'name': 'Delaware', 'gasoline': '2.325', 'midGrade': '2.710', 'premium': '2.923', 'diesel': '2.315'}, {'currency': 'usd', 'name': 'Florida', 'gasoline': '2.155', 'midGrade': '2.505', 'premium': '2.797', 'diesel': '2.320'}, {'currency': 'usd', 'name': 'Georgia', 'gasoline': '1.994', 'midGrade': '2.327', 'premium': '2.633', 'diesel': '2.427'}, {'currency': 'usd', 'name': 'Hawaii', 'gasoline': '3.260', 'midGrade': '3.446', 'premium': '3.664', 'diesel': '4.042'}, {'currency': 'usd', 'name': 'Iowa', 'gasoline': '2.061', 'midGrade': '2.229', 'premium': '2.616', 'diesel': '2.179'}, {'currency': 'usd', 'name': 'Idaho', 'gasoline': '2.374', 'midGrade': '2.528', 'premium': '2.726', 'diesel': '2.341'}, {'currency': 'usd', 'name': 'Illinois', 'gasoline': '2.275', 'midGrade': '2.623', 'premium': '3.024', 'diesel': '2.380'}, {'currency': 'usd', 'name': 'Indiana', 'gasoline': '2.104', 'midGrade': '2.430', 'premium': '2.749', 'diesel': '2.427'}, {'currency': 'usd', 'name': 'Kansas', 'gasoline': '1.952', 'midGrade': '2.211', 'premium': '2.446', 'diesel': '2.108'}, {'currency': 'usd', 'name': 'Kentucky', 'gasoline': '1.987', 'midGrade': '2.319', 'premium': '2.627', 'diesel': '2.224'}, {'currency': 'usd', 'name': 'Louisiana', 'gasoline': '1.911', 'midGrade': '2.226', 'premium': '2.538', 'diesel': '2.211'}, {'currency': 'usd', 'name': 'Massachusetts', 'gasoline': '2.112', 'midGrade': '2.465', 'premium': '2.678', 'diesel': '2.556'}, {'currency': 'usd', 'name': 'Maryland', 'gasoline': '2.318', 'midGrade': '2.749', 'premium': '2.976', 'diesel': '2.401'}, {'currency': 'usd', 'name': 'Maine', 'gasoline': '2.176', 'midGrade': '2.492', 'premium': '2.754', 'diesel': '2.493'}, {'currency': 'usd', 'name': 'Michigan', 'gasoline': '2.105', 'midGrade': '2.426', 'premium': '2.758', 'diesel': '2.372'}, {'currency': 'usd', 'name': 'Minnesota', 'gasoline': '2.022', 'midGrade': '2.263', 'premium': '2.573', 'diesel': '2.305'}, {'currency': 'usd', 'name': 'Missouri', 'gasoline': '1.871', 'midGrade': '2.125', 'premium': '2.389', 'diesel': '1.994'}, {'currency': 'usd', 'name': 'Mississippi', 'gasoline': '1.857', 'midGrade': '2.163', 'premium': '2.493', 'diesel': '2.075'}, {'currency': 'usd', 'name': 'Montana', 'gasoline': '2.245', 'midGrade': '2.492', 'premium': '2.757', 'diesel': '2.252'}, {'currency': 'usd', 'name': 'North Carolina', 'gasoline': '2.033', 'midGrade': '2.375', 'premium': '2.697', 'diesel': '2.304'}, {'currency': 'usd', 'name': 'North Dakota', 'gasoline': '2.075', 'midGrade': '2.280', 'premium': '2.501', 'diesel': '2.150'}, {'currency': 'usd', 'name': 'Nebraska', 'gasoline': '2.122', 'midGrade': '2.233', 'premium': '2.612', 'diesel': '2.189'}, {'currency': 'usd', 'name': 'New Hampshire', 'gasoline': '2.075', 'midGrade': '2.452', 'premium': '2.715', 'diesel': '2.469'}, {'currency': 'usd', 'name': 'New Jersey', 'gasoline': '2.241', 'midGrade': '2.610', 'premium': '2.792', 'diesel': '2.516'}, {'currency': 'usd', 'name': 'New Mexico', 'gasoline': '2.037', 'midGrade': '2.354', 'premium': '2.604', 'diesel': '2.305'}, {'currency': 'usd', 'name': 'Nevada', 'gasoline': '2.640', 'midGrade': '2.860', 'premium': '3.032', 'diesel': '2.585'}, {'currency': 'usd', 'name': 'New York', 'gasoline': '2.256', 'midGrade': '2.580', 'premium': '2.808', 'diesel': '2.780'}, {'currency': 'usd', 'name': 'Ohio', 'gasoline': '2.047', 'midGrade': '2.380', 'premium': '2.714', 'diesel': '2.366'}, {'currency': 'usd', 'name': 'Oklahoma', 'gasoline': '1.883', 'midGrade': '2.130', 'premium': '2.339', 'diesel': '1.994'}, {'currency': 'usd', 'name': 'Oregon', 'gasoline': '2.603', 'midGrade': '2.792', 'premium': '2.975', 'diesel': '2.576'}, {'currency': 'usd', 'name': 'Pennsylvania', 'gasoline': '2.492', 'midGrade': '2.802', 'premium': '3.081', 'diesel': '2.747'}, {'currency': 'usd', 'name': 'Rhode Island', 'gasoline': '2.131', 'midGrade': '2.530', 'premium': '2.742', 'diesel': '2.621'}, {'currency': 'usd', 'name': 'South Carolina', 'gasoline': '1.938', 'midGrade': '2.265', 'premium': '2.579', 'diesel': '2.157'}, {'currency': 'usd', 'name': 'South Dakota', 'gasoline': '2.104', 'midGrade': '2.230', 'premium': '2.555', 'diesel': '2.212'}, {'currency': 'usd', 'name': 'Tennessee', 'gasoline': '1.948', 'midGrade': '2.274', 'premium': '2.605', 'diesel': '2.276'}, {'currency': 'usd', 'name': 'Texas', 'gasoline': '1.859', 'midGrade': '2.186', 'premium': '2.474', 'diesel': '2.022'}, {'currency': 'usd', 'name': 'Utah', 'gasoline': '2.392', 'midGrade': '2.560', 'premium': '2.725', 'diesel': '2.349'}, {'currency': 'usd', 'name': 'Virginia', 'gasoline': '2.089', 'midGrade': '2.468', 'premium': '2.756', 'diesel': '2.328'}, {'currency': 'usd', 'name': 'Vermont', 'gasoline': '2.158', 'midGrade': '2.494', 'premium': '2.773', 'diesel': '2.500'}, {'currency': 'usd', 'name': 'Washington', 'gasoline': '2.783', 'midGrade': '3.002', 'premium': '3.161', 'diesel': '2.703'}, {'currency': 'usd', 'name': 'Wisconsin', 'gasoline': '1.996', 'midGrade': '2.339', 'premium': '2.713', 'diesel': '2.117'}, {'currency': 'usd', 'name': 'West Virginia', 'gasoline': '2.220', 'midGrade': '2.504', 'premium': '2.793', 'diesel': '2.376'}, {'currency': 'usd', 'name': 'Wyoming', 'gasoline': '2.206', 'midGrade': '2.430', 'premium': '2.653', 'diesel': '2.337'}]\n"
     ]
    }
   ],
   "source": [
    "#Converting the byte array by decoding and then loading through JSON\n",
    "gasPriceState_data = raw_data.decode('utf8')\n",
    "gasPriceState_data = json.loads(gasPriceState_data)\n",
    "gasPriceState_data = gasPriceState_data['result']\n",
    "print(gasPriceState_data)"
   ]
  },
  {
   "cell_type": "code",
   "execution_count": 372,
   "metadata": {},
   "outputs": [],
   "source": [
    "#Recieved fips ID for each state in order to change apply it into the gasPrice JSON dictionary by matching by state key\n",
    "States_fipsId = {\n",
    "'Alabama': '01',\n",
    "'Alaska': '02',\n",
    "'Arizona': '04',\n",
    "'Arkansas': '05',\n",
    "'California': '06',\n",
    "'Colorado': '08',\n",
    "'Connecticut': '09',\n",
    "'Delaware': '10',\n",
    "'District Of Columbia': '11',\n",
    "'Florida': '12',\n",
    "'Georgia': '13',\n",
    "'Hawaii': '15',\n",
    "'Idaho': '16',\n",
    "'Illinois': '17',\n",
    "'Indiana': '18',\n",
    "'Iowa': '19',\n",
    "'Kansas': '20',\n",
    "'Kentucky': '21',\n",
    "'Louisiana': '22',\n",
    "'Maine': '23',\n",
    "'Maryland': '24',\n",
    "'Massachusetts': '25',\n",
    "'Michigan': '26',\n",
    "'Minnesota': '27',\n",
    "'Mississippi': '28',\n",
    "'Missouri': '29',\n",
    "'Montana': '30',\n",
    "'Nebraska': '31',\n",
    "'Nevada': '32',\n",
    "'New Hampshire': '33',\n",
    "'New Jersey': '34',\n",
    "'New Mexico': '35',\n",
    "'New York': '36',\n",
    "'North Carolina': '37',\n",
    "'North Dakota': '38',\n",
    "'Ohio': '39',\n",
    "'Oklahoma': '40',\n",
    "'Oregon': '41',\n",
    "'Pennsylvania': '42',\n",
    "'Rhode Island': '44',\n",
    "'South Carolina': '45',\n",
    "'South Dakota': '46',\n",
    "'Tennessee': '47',\n",
    "'Texas': '48',\n",
    "'Utah': '49',\n",
    "'Vermont': '50',\n",
    "'Virginia': '51',\n",
    "'Washington': '53',\n",
    "'West Virginia': '54',\n",
    "'Wisconsin': '55',\n",
    "'Wyoming': '56'\n",
    "}"
   ]
  },
  {
   "cell_type": "code",
   "execution_count": 379,
   "metadata": {
    "tags": []
   },
   "outputs": [
    {
     "output_type": "stream",
     "name": "stdout",
     "text": [
      "{'currency': 'usd', 'name': 'Alabama', 'gasoline': '1.908', 'midGrade': '2.237', 'premium': '2.569', 'diesel': '2.239', 'id': '01'}\n{'currency': 'usd', 'name': 'Alaska', 'gasoline': '2.498', 'midGrade': '2.643', 'premium': '2.803', 'diesel': '2.395', 'id': '02'}\n{'currency': 'usd', 'name': 'Arizona', 'gasoline': '2.268', 'midGrade': '2.551', 'premium': '2.803', 'diesel': '2.421', 'id': '04'}\n{'currency': 'usd', 'name': 'Arkansas', 'gasoline': '1.885', 'midGrade': '2.176', 'premium': '2.467', 'diesel': '2.132', 'id': '05'}\n{'currency': 'usd', 'name': 'California', 'gasoline': '3.204', 'midGrade': '3.388', 'premium': '3.508', 'diesel': '3.341', 'id': '06'}\n{'currency': 'usd', 'name': 'Colorado', 'gasoline': '2.259', 'midGrade': '2.572', 'premium': '2.855', 'diesel': '2.185', 'id': '08'}\n{'currency': 'usd', 'name': 'Connecticut', 'gasoline': '2.179', 'midGrade': '2.525', 'premium': '2.755', 'diesel': '2.693', 'id': '09'}\n{'currency': 'usd', 'name': 'Delaware', 'gasoline': '2.325', 'midGrade': '2.710', 'premium': '2.923', 'diesel': '2.315', 'id': '10'}\n{'currency': 'usd', 'name': 'District of Columbia', 'gasoline': '2.396', 'midGrade': '2.896', 'premium': '3.021', 'diesel': '2.846', 'id': '11'}\n{'currency': 'usd', 'name': 'Florida', 'gasoline': '2.155', 'midGrade': '2.505', 'premium': '2.797', 'diesel': '2.320', 'id': '12'}\n{'currency': 'usd', 'name': 'Georgia', 'gasoline': '1.994', 'midGrade': '2.327', 'premium': '2.633', 'diesel': '2.427', 'id': '13'}\n{'currency': 'usd', 'name': 'Hawaii', 'gasoline': '3.260', 'midGrade': '3.446', 'premium': '3.664', 'diesel': '4.042', 'id': '15'}\n{'currency': 'usd', 'name': 'Idaho', 'gasoline': '2.374', 'midGrade': '2.528', 'premium': '2.726', 'diesel': '2.341', 'id': '16'}\n{'currency': 'usd', 'name': 'Illinois', 'gasoline': '2.275', 'midGrade': '2.623', 'premium': '3.024', 'diesel': '2.380', 'id': '17'}\n{'currency': 'usd', 'name': 'Indiana', 'gasoline': '2.104', 'midGrade': '2.430', 'premium': '2.749', 'diesel': '2.427', 'id': '18'}\n{'currency': 'usd', 'name': 'Iowa', 'gasoline': '2.061', 'midGrade': '2.229', 'premium': '2.616', 'diesel': '2.179', 'id': '19'}\n{'currency': 'usd', 'name': 'Kansas', 'gasoline': '1.952', 'midGrade': '2.211', 'premium': '2.446', 'diesel': '2.108', 'id': '20'}\n{'currency': 'usd', 'name': 'Kentucky', 'gasoline': '1.987', 'midGrade': '2.319', 'premium': '2.627', 'diesel': '2.224', 'id': '21'}\n{'currency': 'usd', 'name': 'Louisiana', 'gasoline': '1.911', 'midGrade': '2.226', 'premium': '2.538', 'diesel': '2.211', 'id': '22'}\n{'currency': 'usd', 'name': 'Maine', 'gasoline': '2.176', 'midGrade': '2.492', 'premium': '2.754', 'diesel': '2.493', 'id': '23'}\n{'currency': 'usd', 'name': 'Maryland', 'gasoline': '2.318', 'midGrade': '2.749', 'premium': '2.976', 'diesel': '2.401', 'id': '24'}\n{'currency': 'usd', 'name': 'Massachusetts', 'gasoline': '2.112', 'midGrade': '2.465', 'premium': '2.678', 'diesel': '2.556', 'id': '25'}\n{'currency': 'usd', 'name': 'Michigan', 'gasoline': '2.105', 'midGrade': '2.426', 'premium': '2.758', 'diesel': '2.372', 'id': '26'}\n{'currency': 'usd', 'name': 'Minnesota', 'gasoline': '2.022', 'midGrade': '2.263', 'premium': '2.573', 'diesel': '2.305', 'id': '27'}\n{'currency': 'usd', 'name': 'Mississippi', 'gasoline': '1.857', 'midGrade': '2.163', 'premium': '2.493', 'diesel': '2.075', 'id': '28'}\n{'currency': 'usd', 'name': 'Missouri', 'gasoline': '1.871', 'midGrade': '2.125', 'premium': '2.389', 'diesel': '1.994', 'id': '29'}\n{'currency': 'usd', 'name': 'Montana', 'gasoline': '2.245', 'midGrade': '2.492', 'premium': '2.757', 'diesel': '2.252', 'id': '30'}\n{'currency': 'usd', 'name': 'Nebraska', 'gasoline': '2.122', 'midGrade': '2.233', 'premium': '2.612', 'diesel': '2.189', 'id': '31'}\n{'currency': 'usd', 'name': 'Nevada', 'gasoline': '2.640', 'midGrade': '2.860', 'premium': '3.032', 'diesel': '2.585', 'id': '32'}\n{'currency': 'usd', 'name': 'New Hampshire', 'gasoline': '2.075', 'midGrade': '2.452', 'premium': '2.715', 'diesel': '2.469', 'id': '33'}\n{'currency': 'usd', 'name': 'New Jersey', 'gasoline': '2.241', 'midGrade': '2.610', 'premium': '2.792', 'diesel': '2.516', 'id': '34'}\n{'currency': 'usd', 'name': 'New Mexico', 'gasoline': '2.037', 'midGrade': '2.354', 'premium': '2.604', 'diesel': '2.305', 'id': '35'}\n{'currency': 'usd', 'name': 'New York', 'gasoline': '2.256', 'midGrade': '2.580', 'premium': '2.808', 'diesel': '2.780', 'id': '36'}\n{'currency': 'usd', 'name': 'North Carolina', 'gasoline': '2.033', 'midGrade': '2.375', 'premium': '2.697', 'diesel': '2.304', 'id': '37'}\n{'currency': 'usd', 'name': 'North Dakota', 'gasoline': '2.075', 'midGrade': '2.280', 'premium': '2.501', 'diesel': '2.150', 'id': '38'}\n{'currency': 'usd', 'name': 'Ohio', 'gasoline': '2.047', 'midGrade': '2.380', 'premium': '2.714', 'diesel': '2.366', 'id': '39'}\n{'currency': 'usd', 'name': 'Oklahoma', 'gasoline': '1.883', 'midGrade': '2.130', 'premium': '2.339', 'diesel': '1.994', 'id': '40'}\n{'currency': 'usd', 'name': 'Oregon', 'gasoline': '2.603', 'midGrade': '2.792', 'premium': '2.975', 'diesel': '2.576', 'id': '41'}\n{'currency': 'usd', 'name': 'Pennsylvania', 'gasoline': '2.492', 'midGrade': '2.802', 'premium': '3.081', 'diesel': '2.747', 'id': '42'}\n{'currency': 'usd', 'name': 'Rhode Island', 'gasoline': '2.131', 'midGrade': '2.530', 'premium': '2.742', 'diesel': '2.621', 'id': '44'}\n{'currency': 'usd', 'name': 'South Carolina', 'gasoline': '1.938', 'midGrade': '2.265', 'premium': '2.579', 'diesel': '2.157', 'id': '45'}\n{'currency': 'usd', 'name': 'South Dakota', 'gasoline': '2.104', 'midGrade': '2.230', 'premium': '2.555', 'diesel': '2.212', 'id': '46'}\n{'currency': 'usd', 'name': 'Tennessee', 'gasoline': '1.948', 'midGrade': '2.274', 'premium': '2.605', 'diesel': '2.276', 'id': '47'}\n{'currency': 'usd', 'name': 'Texas', 'gasoline': '1.859', 'midGrade': '2.186', 'premium': '2.474', 'diesel': '2.022', 'id': '48'}\n{'currency': 'usd', 'name': 'Utah', 'gasoline': '2.392', 'midGrade': '2.560', 'premium': '2.725', 'diesel': '2.349', 'id': '49'}\n{'currency': 'usd', 'name': 'Vermont', 'gasoline': '2.158', 'midGrade': '2.494', 'premium': '2.773', 'diesel': '2.500', 'id': '50'}\n{'currency': 'usd', 'name': 'Virginia', 'gasoline': '2.089', 'midGrade': '2.468', 'premium': '2.756', 'diesel': '2.328', 'id': '51'}\n{'currency': 'usd', 'name': 'Washington', 'gasoline': '2.783', 'midGrade': '3.002', 'premium': '3.161', 'diesel': '2.703', 'id': '53'}\n{'currency': 'usd', 'name': 'West Virginia', 'gasoline': '2.220', 'midGrade': '2.504', 'premium': '2.793', 'diesel': '2.376', 'id': '54'}\n{'currency': 'usd', 'name': 'Wisconsin', 'gasoline': '1.996', 'midGrade': '2.339', 'premium': '2.713', 'diesel': '2.117', 'id': '55'}\n{'currency': 'usd', 'name': 'Wyoming', 'gasoline': '2.206', 'midGrade': '2.430', 'premium': '2.653', 'diesel': '2.337', 'id': '56'}\n"
     ]
    }
   ],
   "source": [
    "# #Testing to see if the id state works\n",
    "gasPriceState_data = sorted(gasPriceState_data, key = lambda i: i['name'])\n",
    "    \n",
    "for gasDict, state_id in zip(gasPriceState_data, States_fipsId.values()):\n",
    "    gasDict['id'] = state_id\n",
    "    print(gasDict)\n",
    "\n",
    "with open('static/data/gasPriceState.json', 'w') as fp:\n",
    "    json.dump(gasPriceState_data, fp)"
   ]
  },
  {
   "cell_type": "code",
   "execution_count": null,
   "metadata": {},
   "outputs": [],
   "source": [
    "# geojson = {\n",
    "#     \"type\": \"FeatureCollection\",\n",
    "#     \"features\": [\n",
    "#     {\n",
    "#       \"type\": \"Feature\", \"id\":\"(ID NUMBER)\", \"properties\" : {\"name\":(STATE), \"gasolineData\": (GAS DATA), \"midGradeData\":(MID DATA), \"premiumData\": (PREM DATA),\"dieselData\": (DIESEL DATA)},\n",
    "#         \"geometry\" : {\n",
    "#             \"type\": \"Polygon\",\n",
    "#             \"coordinates\": [d[\"lon\"], d[\"lat\"]],\n",
    "#             },\n",
    "#      } for d in stateData]\n",
    "# }"
   ]
  },
  {
   "cell_type": "code",
   "execution_count": null,
   "metadata": {},
   "outputs": [],
   "source": [
    "# with open(\"static/data/statesData.geojson\") as f:\n",
    "#     gj = geojson.load(f)\n",
    "#     print(gj)"
   ]
  }
 ],
 "metadata": {
  "kernelspec": {
   "display_name": "Python 3",
   "language": "python",
   "name": "python3"
  },
  "language_info": {
   "codemirror_mode": {
    "name": "ipython",
    "version": 3
   },
   "file_extension": ".py",
   "mimetype": "text/x-python",
   "name": "python",
   "nbconvert_exporter": "python",
   "pygments_lexer": "ipython3",
   "version": "3.7.7-final"
  }
 },
 "nbformat": 4,
 "nbformat_minor": 4
}