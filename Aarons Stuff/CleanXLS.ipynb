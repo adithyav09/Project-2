{
 "metadata": {
  "language_info": {
   "codemirror_mode": {
    "name": "ipython",
    "version": 3
   },
   "file_extension": ".py",
   "mimetype": "text/x-python",
   "name": "python",
   "nbconvert_exporter": "python",
   "pygments_lexer": "ipython3",
   "version": "3.7.6-final"
  },
  "orig_nbformat": 2,
  "kernelspec": {
   "name": "Python 3.7.6 64-bit ('base': conda)",
   "display_name": "Python 3.7.6 64-bit ('base': conda)",
   "metadata": {
    "interpreter": {
     "hash": "91c903a029a8949b2bcf1df2d9a3a4f452318ee8762d293d9b970120247642e6"
    }
   }
  }
 },
 "nbformat": 4,
 "nbformat_minor": 2,
 "cells": [
  {
   "cell_type": "code",
   "execution_count": 2,
   "metadata": {},
   "outputs": [
    {
     "output_type": "execute_result",
     "data": {
      "text/plain": [
       "          Date  New_England_Prices  ...  West_Coast_No_Cali_Prices  Year\n",
       "314   19980518               1.078  ...                      1.162  1998\n",
       "315   19980525               1.084  ...                      1.170  1998\n",
       "316   19980601               1.083  ...                      1.166  1998\n",
       "317   19980608               1.084  ...                      1.162  1998\n",
       "318   19980615               1.085  ...                      1.160  1998\n",
       "...        ...                 ...  ...                        ...   ...\n",
       "1478  20200907               2.151  ...                      2.572  2020\n",
       "1479  20200914               2.130  ...                      2.568  2020\n",
       "1480  20200921               2.124  ...                      2.546  2020\n",
       "1481  20200928               2.114  ...                      2.530  2020\n",
       "1482  20201005               2.101  ...                      2.513  2020\n",
       "\n",
       "[1169 rows x 10 columns]"
      ],
      "text/html": "<div>\n<style scoped>\n    .dataframe tbody tr th:only-of-type {\n        vertical-align: middle;\n    }\n\n    .dataframe tbody tr th {\n        vertical-align: top;\n    }\n\n    .dataframe thead th {\n        text-align: right;\n    }\n</style>\n<table border=\"1\" class=\"dataframe\">\n  <thead>\n    <tr style=\"text-align: right;\">\n      <th></th>\n      <th>Date</th>\n      <th>New_England_Prices</th>\n      <th>Central_Atlantic_Prices</th>\n      <th>Lower_Atlantic_Prices</th>\n      <th>Midwest_Prices</th>\n      <th>Gulf_Coast_Prices</th>\n      <th>Rocky_Mountain_Prices</th>\n      <th>West_Coast_Prices</th>\n      <th>West_Coast_No_Cali_Prices</th>\n      <th>Year</th>\n    </tr>\n  </thead>\n  <tbody>\n    <tr>\n      <th>314</th>\n      <td>19980518</td>\n      <td>1.078</td>\n      <td>1.074</td>\n      <td>0.992</td>\n      <td>1.081</td>\n      <td>1.002</td>\n      <td>1.127</td>\n      <td>1.205</td>\n      <td>1.162</td>\n      <td>1998</td>\n    </tr>\n    <tr>\n      <th>315</th>\n      <td>19980525</td>\n      <td>1.084</td>\n      <td>1.077</td>\n      <td>0.993</td>\n      <td>1.075</td>\n      <td>0.998</td>\n      <td>1.122</td>\n      <td>1.209</td>\n      <td>1.170</td>\n      <td>1998</td>\n    </tr>\n    <tr>\n      <th>316</th>\n      <td>19980601</td>\n      <td>1.083</td>\n      <td>1.077</td>\n      <td>0.992</td>\n      <td>1.067</td>\n      <td>1.001</td>\n      <td>1.115</td>\n      <td>1.202</td>\n      <td>1.166</td>\n      <td>1998</td>\n    </tr>\n    <tr>\n      <th>317</th>\n      <td>19980608</td>\n      <td>1.084</td>\n      <td>1.078</td>\n      <td>0.992</td>\n      <td>1.090</td>\n      <td>1.000</td>\n      <td>1.169</td>\n      <td>1.192</td>\n      <td>1.162</td>\n      <td>1998</td>\n    </tr>\n    <tr>\n      <th>318</th>\n      <td>19980615</td>\n      <td>1.085</td>\n      <td>1.074</td>\n      <td>0.985</td>\n      <td>1.070</td>\n      <td>1.001</td>\n      <td>1.156</td>\n      <td>1.190</td>\n      <td>1.160</td>\n      <td>1998</td>\n    </tr>\n    <tr>\n      <th>...</th>\n      <td>...</td>\n      <td>...</td>\n      <td>...</td>\n      <td>...</td>\n      <td>...</td>\n      <td>...</td>\n      <td>...</td>\n      <td>...</td>\n      <td>...</td>\n      <td>...</td>\n    </tr>\n    <tr>\n      <th>1478</th>\n      <td>20200907</td>\n      <td>2.151</td>\n      <td>2.308</td>\n      <td>2.085</td>\n      <td>2.066</td>\n      <td>1.890</td>\n      <td>2.345</td>\n      <td>2.858</td>\n      <td>2.572</td>\n      <td>2020</td>\n    </tr>\n    <tr>\n      <th>1479</th>\n      <td>20200914</td>\n      <td>2.130</td>\n      <td>2.285</td>\n      <td>2.050</td>\n      <td>2.027</td>\n      <td>1.857</td>\n      <td>2.329</td>\n      <td>2.855</td>\n      <td>2.568</td>\n      <td>2020</td>\n    </tr>\n    <tr>\n      <th>1480</th>\n      <td>20200921</td>\n      <td>2.124</td>\n      <td>2.263</td>\n      <td>2.019</td>\n      <td>2.034</td>\n      <td>1.838</td>\n      <td>2.314</td>\n      <td>2.836</td>\n      <td>2.546</td>\n      <td>2020</td>\n    </tr>\n    <tr>\n      <th>1481</th>\n      <td>20200928</td>\n      <td>2.114</td>\n      <td>2.257</td>\n      <td>2.016</td>\n      <td>2.059</td>\n      <td>1.836</td>\n      <td>2.296</td>\n      <td>2.817</td>\n      <td>2.530</td>\n      <td>2020</td>\n    </tr>\n    <tr>\n      <th>1482</th>\n      <td>20201005</td>\n      <td>2.101</td>\n      <td>2.270</td>\n      <td>2.052</td>\n      <td>2.049</td>\n      <td>1.827</td>\n      <td>2.274</td>\n      <td>2.807</td>\n      <td>2.513</td>\n      <td>2020</td>\n    </tr>\n  </tbody>\n</table>\n<p>1169 rows × 10 columns</p>\n</div>"
     },
     "metadata": {},
     "execution_count": 2
    }
   ],
   "source": [
    "import pandas as pd\n",
    "df = pd.read_excel(r'Historical Gas Prices.xls', sheet_name='Data 2', header=2)\n",
    "df.drop(df.columns[1],inplace=True,axis=1)\n",
    "df.dropna(axis=0, how=\"any\", inplace=True)\n",
    "df[\"Year\"] = df[\"Date\"].dt.strftime('%Y')\n",
    "df[\"Date\"] = df[\"Date\"].dt.strftime('%Y%m%d')\n",
    "df.rename(columns={df.columns[1]: \"New_England_Prices\",df.columns[2]: \"Central_Atlantic_Prices\",df.columns[3]: \"Lower_Atlantic_Prices\",df.columns[4]: \"Midwest_Prices\",df.columns[5]: \"Gulf_Coast_Prices\",df.columns[6]: \"Rocky_Mountain_Prices\",df.columns[7]: \"West_Coast_Prices\",df.columns[8]: \"West_Coast_No_Cali_Prices\"}, inplace=True)\n",
    "df"
   ]
  },
  {
   "cell_type": "code",
   "execution_count": 3,
   "metadata": {},
   "outputs": [],
   "source": [
    "df.to_csv('CleanHistGasPrices.csv', index=False)"
   ]
  },
  {
   "cell_type": "code",
   "execution_count": null,
   "metadata": {},
   "outputs": [],
   "source": []
  }
 ]
}